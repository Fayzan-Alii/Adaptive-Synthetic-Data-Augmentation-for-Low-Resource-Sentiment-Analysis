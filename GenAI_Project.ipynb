{
 "cells": [
  {
   "cell_type": "code",
   "execution_count": 1,
   "metadata": {},
   "outputs": [
    {
     "name": "stderr",
     "output_type": "stream",
     "text": [
      "[nltk_data] Downloading package punkt to /root/nltk_data...\n",
      "[nltk_data]   Package punkt is already up-to-date!\n",
      "[nltk_data] Downloading package wordnet to /root/nltk_data...\n",
      "[nltk_data]   Package wordnet is already up-to-date!\n",
      "[nltk_data] Downloading package omw-1.4 to /root/nltk_data...\n",
      "[nltk_data]   Package omw-1.4 is already up-to-date!\n"
     ]
    },
    {
     "data": {
      "text/plain": [
       "True"
      ]
     },
     "execution_count": 1,
     "metadata": {},
     "output_type": "execute_result"
    }
   ],
   "source": [
    "import pandas as pd\n",
    "import numpy as np\n",
    "import random\n",
    "import nltk\n",
    "from nltk.corpus import wordnet\n",
    "from nltk.tokenize import word_tokenize\n",
    "import torch\n",
    "from transformers import MarianMTModel, MarianTokenizer, T5ForConditionalGeneration, T5Tokenizer\n",
    "\n",
    "nltk.download('punkt')\n",
    "nltk.download('wordnet')\n",
    "nltk.download('omw-1.4')"
   ]
  },
  {
   "cell_type": "code",
   "execution_count": 2,
   "metadata": {},
   "outputs": [
    {
     "data": {
      "text/html": [
       "<div>\n",
       "<style scoped>\n",
       "    .dataframe tbody tr th:only-of-type {\n",
       "        vertical-align: middle;\n",
       "    }\n",
       "\n",
       "    .dataframe tbody tr th {\n",
       "        vertical-align: top;\n",
       "    }\n",
       "\n",
       "    .dataframe thead th {\n",
       "        text-align: right;\n",
       "    }\n",
       "</style>\n",
       "<table border=\"1\" class=\"dataframe\">\n",
       "  <thead>\n",
       "    <tr style=\"text-align: right;\">\n",
       "      <th></th>\n",
       "      <th>sentiment</th>\n",
       "      <th>review</th>\n",
       "    </tr>\n",
       "  </thead>\n",
       "  <tbody>\n",
       "    <tr>\n",
       "      <th>0</th>\n",
       "      <td>neg</td>\n",
       "      <td>@ anonymous urf shezad .. tum nay bhi to meri...</td>\n",
       "    </tr>\n",
       "    <tr>\n",
       "      <th>1</th>\n",
       "      <td>pos</td>\n",
       "      <td>ab hamin kon khilae ga bana kar balke hafsa q ...</td>\n",
       "    </tr>\n",
       "    <tr>\n",
       "      <th>2</th>\n",
       "      <td>pos</td>\n",
       "      <td>muskan sis ho bahi nahi girls behi patang urht...</td>\n",
       "    </tr>\n",
       "    <tr>\n",
       "      <th>3</th>\n",
       "      <td>neg</td>\n",
       "      <td>koi patwari issy btay agar sabit hoa tu yeh ja...</td>\n",
       "    </tr>\n",
       "    <tr>\n",
       "      <th>4</th>\n",
       "      <td>neg</td>\n",
       "      <td>bhot acha hoa in ka sath asi hona chaiya tha l...</td>\n",
       "    </tr>\n",
       "  </tbody>\n",
       "</table>\n",
       "</div>"
      ],
      "text/plain": [
       "  sentiment                                             review\n",
       "0       neg   @ anonymous urf shezad .. tum nay bhi to meri...\n",
       "1       pos  ab hamin kon khilae ga bana kar balke hafsa q ...\n",
       "2       pos  muskan sis ho bahi nahi girls behi patang urht...\n",
       "3       neg  koi patwari issy btay agar sabit hoa tu yeh ja...\n",
       "4       neg  bhot acha hoa in ka sath asi hona chaiya tha l..."
      ]
     },
     "execution_count": 2,
     "metadata": {},
     "output_type": "execute_result"
    }
   ],
   "source": [
    "df = pd.read_csv('/home/Genai/project/Data/Dataset 11000 Reviews.tsv', sep='\\t', header=None)\n",
    "df.columns = ['sentiment', 'review']\n",
    "seed_df = df.sample(n=100, random_state=42).reset_index(drop=True)\n",
    "seed_df.head()"
   ]
  },
  {
   "cell_type": "code",
   "execution_count": 3,
   "metadata": {},
   "outputs": [],
   "source": [
    "def get_synonyms(word):\n",
    "    synonyms = set()\n",
    "    for syn in wordnet.synsets(word):\n",
    "        for lemma in syn.lemmas():\n",
    "            synonym = lemma.name().replace(\"_\", \" \").lower()\n",
    "            if synonym != word:\n",
    "                synonyms.add(synonym)\n",
    "    return list(synonyms)\n",
    "\n",
    "def synonym_replacement(sentence, n=2):\n",
    "    words = word_tokenize(sentence)\n",
    "    new_words = words.copy()\n",
    "    random_word_list = list(set([word for word in words if word.isalpha()]))\n",
    "    random.shuffle(random_word_list)\n",
    "    num_replaced = 0\n",
    "    for random_word in random_word_list:\n",
    "        synonyms = get_synonyms(random_word)\n",
    "        if len(synonyms) > 0:\n",
    "            synonym = random.choice(synonyms)\n",
    "            new_words = [synonym if word == random_word else word for word in new_words]\n",
    "            num_replaced += 1\n",
    "        if num_replaced >= n:\n",
    "            break\n",
    "    return ' '.join(new_words)\n",
    "\n",
    "def random_insertion(sentence, n=2):\n",
    "    words = word_tokenize(sentence)\n",
    "    for _ in range(n):\n",
    "        add_word(words)\n",
    "    return ' '.join(words)\n",
    "\n",
    "def add_word(words):\n",
    "    synonyms = []\n",
    "    counter = 0\n",
    "    while len(synonyms) < 1 and counter < 10:\n",
    "        random_word = random.choice(words)\n",
    "        synonyms = get_synonyms(random_word)\n",
    "        counter += 1\n",
    "    if len(synonyms) > 0:\n",
    "        random_synonym = random.choice(synonyms)\n",
    "        insert_pos = random.randint(0, len(words))\n",
    "        words.insert(insert_pos, random_synonym)\n",
    "\n",
    "def random_swap(sentence, n=2):\n",
    "    words = word_tokenize(sentence)\n",
    "    for _ in range(n):\n",
    "        words = swap_word(words)\n",
    "    return ' '.join(words)\n",
    "\n",
    "def swap_word(words):\n",
    "    if len(words) < 2:\n",
    "        return words\n",
    "    idx1, idx2 = random.sample(range(len(words)), 2)\n",
    "    words[idx1], words[idx2] = words[idx2], words[idx1]\n",
    "    return words\n",
    "\n",
    "def random_deletion(sentence, p=0.1):\n",
    "    words = word_tokenize(sentence)\n",
    "    if len(words) == 1:\n",
    "        return sentence\n",
    "    new_words = [word for word in words if random.uniform(0,1) > p]\n",
    "    if len(new_words) == 0:\n",
    "        return random.choice(words)\n",
    "    else:\n",
    "        return ' '.join(new_words)"
   ]
  },
  {
   "cell_type": "code",
   "execution_count": 4,
   "metadata": {},
   "outputs": [
    {
     "name": "stdout",
     "output_type": "stream",
     "text": [
      "Index(['sentiment', 'review'], dtype='object')\n"
     ]
    }
   ],
   "source": [
    "print(seed_df.columns)"
   ]
  },
  {
   "cell_type": "code",
   "execution_count": 5,
   "metadata": {},
   "outputs": [
    {
     "data": {
      "text/html": [
       "<div>\n",
       "<style scoped>\n",
       "    .dataframe tbody tr th:only-of-type {\n",
       "        vertical-align: middle;\n",
       "    }\n",
       "\n",
       "    .dataframe tbody tr th {\n",
       "        vertical-align: top;\n",
       "    }\n",
       "\n",
       "    .dataframe thead th {\n",
       "        text-align: right;\n",
       "    }\n",
       "</style>\n",
       "<table border=\"1\" class=\"dataframe\">\n",
       "  <thead>\n",
       "    <tr style=\"text-align: right;\">\n",
       "      <th></th>\n",
       "      <th>review</th>\n",
       "      <th>synonym_replacement</th>\n",
       "      <th>random_insertion</th>\n",
       "      <th>random_swap</th>\n",
       "      <th>random_deletion</th>\n",
       "    </tr>\n",
       "  </thead>\n",
       "  <tbody>\n",
       "    <tr>\n",
       "      <th>0</th>\n",
       "      <td>@ anonymous urf shezad .. tum nay bhi to meri...</td>\n",
       "      <td>@ anonymous urf shezad .. tum nay bhi to meri ...</td>\n",
       "      <td>@ anonymous urf shezad breadbasket .. tum nay ...</td>\n",
       "      <td>@ anonymous urf shezad .. tum nay bhi to meri ...</td>\n",
       "      <td>@ urf shezad .. tum nay bhi to meri bohot izza...</td>\n",
       "    </tr>\n",
       "    <tr>\n",
       "      <th>1</th>\n",
       "      <td>ab hamin kon khilae ga bana kar balke hafsa q ...</td>\n",
       "      <td>av hamin kon khilae empire state of the south ...</td>\n",
       "      <td>ab hamin kon khilae atomic number 31 ga bana k...</td>\n",
       "      <td>ab hamin kon khilae ga bana kar balke ap q trk...</td>\n",
       "      <td>ab hamin kon khilae bana kar balke hafsa q trk...</td>\n",
       "    </tr>\n",
       "    <tr>\n",
       "      <th>2</th>\n",
       "      <td>muskan sis ho bahi nahi girls behi patang urht...</td>\n",
       "      <td>muskan sis ho bahi nahi girls behi patang urht...</td>\n",
       "      <td>muskan ch'i sis ho bahi nahi girls behi patang...</td>\n",
       "      <td>bhot sis ho bahi nahi girls behi patang urhtaa...</td>\n",
       "      <td>sis ho bahi nahi girls behi patang urhtaayi me...</td>\n",
       "    </tr>\n",
       "    <tr>\n",
       "      <th>3</th>\n",
       "      <td>koi patwari issy btay agar sabit hoa tu yeh ja...</td>\n",
       "      <td>koi patwari issy btay nutrient agar sabit hoa ...</td>\n",
       "      <td>koi patwari issy shop btay agar gaol sabit hoa...</td>\n",
       "      <td>koi patwari issy btay agar sabit jail tu yeh n...</td>\n",
       "      <td>koi patwari issy agar sabit hoa tu yeh jail ma...</td>\n",
       "    </tr>\n",
       "    <tr>\n",
       "      <th>4</th>\n",
       "      <td>bhot acha hoa in ka sath asi hona chaiya tha l...</td>\n",
       "      <td>bhot acha hoa indium ka sath asi hona chaiya t...</td>\n",
       "      <td>bhot acha hoa in ka sath asi inch indiana hona...</td>\n",
       "      <td>bhot acha hoa tha in sath asi hona chaiya ka l...</td>\n",
       "      <td>bhot acha hoa in sath asi hona chaiya tha lant...</td>\n",
       "    </tr>\n",
       "  </tbody>\n",
       "</table>\n",
       "</div>"
      ],
      "text/plain": [
       "                                              review  \\\n",
       "0   @ anonymous urf shezad .. tum nay bhi to meri...   \n",
       "1  ab hamin kon khilae ga bana kar balke hafsa q ...   \n",
       "2  muskan sis ho bahi nahi girls behi patang urht...   \n",
       "3  koi patwari issy btay agar sabit hoa tu yeh ja...   \n",
       "4  bhot acha hoa in ka sath asi hona chaiya tha l...   \n",
       "\n",
       "                                 synonym_replacement  \\\n",
       "0  @ anonymous urf shezad .. tum nay bhi to meri ...   \n",
       "1  av hamin kon khilae empire state of the south ...   \n",
       "2  muskan sis ho bahi nahi girls behi patang urht...   \n",
       "3  koi patwari issy btay nutrient agar sabit hoa ...   \n",
       "4  bhot acha hoa indium ka sath asi hona chaiya t...   \n",
       "\n",
       "                                    random_insertion  \\\n",
       "0  @ anonymous urf shezad breadbasket .. tum nay ...   \n",
       "1  ab hamin kon khilae atomic number 31 ga bana k...   \n",
       "2  muskan ch'i sis ho bahi nahi girls behi patang...   \n",
       "3  koi patwari issy shop btay agar gaol sabit hoa...   \n",
       "4  bhot acha hoa in ka sath asi inch indiana hona...   \n",
       "\n",
       "                                         random_swap  \\\n",
       "0  @ anonymous urf shezad .. tum nay bhi to meri ...   \n",
       "1  ab hamin kon khilae ga bana kar balke ap q trk...   \n",
       "2  bhot sis ho bahi nahi girls behi patang urhtaa...   \n",
       "3  koi patwari issy btay agar sabit jail tu yeh n...   \n",
       "4  bhot acha hoa tha in sath asi hona chaiya ka l...   \n",
       "\n",
       "                                     random_deletion  \n",
       "0  @ urf shezad .. tum nay bhi to meri bohot izza...  \n",
       "1  ab hamin kon khilae bana kar balke hafsa q trk...  \n",
       "2  sis ho bahi nahi girls behi patang urhtaayi me...  \n",
       "3  koi patwari issy agar sabit hoa tu yeh jail ma...  \n",
       "4  bhot acha hoa in sath asi hona chaiya tha lant...  "
      ]
     },
     "execution_count": 5,
     "metadata": {},
     "output_type": "execute_result"
    }
   ],
   "source": [
    "seed_df['synonym_replacement'] = seed_df['review'].apply(lambda x: synonym_replacement(str(x), n=2))\n",
    "seed_df['random_insertion'] = seed_df['review'].apply(lambda x: random_insertion(str(x), n=2))\n",
    "seed_df['random_swap'] = seed_df['review'].apply(lambda x: random_swap(str(x), n=2))\n",
    "seed_df['random_deletion'] = seed_df['review'].apply(lambda x: random_deletion(str(x), p=0.1))\n",
    "seed_df[['review', 'synonym_replacement', 'random_insertion', 'random_swap', 'random_deletion']].head()"
   ]
  },
  {
   "cell_type": "code",
   "execution_count": 6,
   "metadata": {},
   "outputs": [
    {
     "name": "stderr",
     "output_type": "stream",
     "text": [
      "/home/Genai/project/.venv/lib/python3.10/site-packages/huggingface_hub/file_download.py:1142: FutureWarning: `resume_download` is deprecated and will be removed in version 1.0.0. Downloads always resume when possible. If you want to force a new download, use `force_download=True`.\n",
      "  warnings.warn(\n",
      "You are using the default legacy behaviour of the <class 'transformers.models.t5.tokenization_t5.T5Tokenizer'>. This is expected, and simply means that the `legacy` (previous) behavior will be used so nothing changes for you. If you want to use the new behaviour, set `legacy=False`. This should only be set if you understand what it means, and thoroughly read the reason why this was added as explained in https://github.com/huggingface/transformers/pull/24565\n",
      "Special tokens have been added in the vocabulary, make sure the associated word embeddings are fine-tuned or trained.\n"
     ]
    }
   ],
   "source": [
    "from transformers import T5ForConditionalGeneration, T5Tokenizer\n",
    "\n",
    "model_name = \"t5-small\"\n",
    "tokenizer = T5Tokenizer.from_pretrained(model_name)\n",
    "model = T5ForConditionalGeneration.from_pretrained(model_name)"
   ]
  },
  {
   "cell_type": "code",
   "execution_count": 7,
   "metadata": {},
   "outputs": [],
   "source": [
    "import random\n",
    "import pandas as pd\n",
    "\n",
    "# Assuming seed_df is provided with columns: 'review', 'sentiment', 'synonym_replacement'\n",
    "paraphrase_examples = seed_df.sample(2, random_state=42)\n",
    "negative_examples = seed_df[seed_df['sentiment'] == 'neg'].sample(2, random_state=42)\n",
    "positive_examples = seed_df[seed_df['sentiment'] == 'pos'].sample(2, random_state=42)"
   ]
  },
  {
   "cell_type": "code",
   "execution_count": 8,
   "metadata": {},
   "outputs": [],
   "source": [
    "def generate_paraphrase(text, num_return_sequences=1):\n",
    "    prompt = \"Paraphrase the following text in Roman Urdu:\\n\\n\"\n",
    "    for idx, row in paraphrase_examples.iterrows():\n",
    "        prompt += f\"Original: {row['review']}\\nParaphrase: {row['synonym_replacement']}\\n\\n\"\n",
    "    prompt += f\"Original: {text}\\nParaphrase:\"\n",
    "\n",
    "    inputs = tokenizer(prompt, return_tensors=\"pt\", max_length=512, truncation=True)\n",
    "    outputs = model.generate(\n",
    "        **inputs,\n",
    "        max_length=150,\n",
    "        num_return_sequences=num_return_sequences,\n",
    "        do_sample=True,\n",
    "        top_k=50,\n",
    "        top_p=0.95,\n",
    "        temperature=0.7\n",
    "    )\n",
    "    paraphrases = [tokenizer.decode(output, skip_special_tokens=True) for output in outputs]\n",
    "    return paraphrases[0] if num_return_sequences == 1 else paraphrases\n",
    "\n",
    "def generate_conditional_text(sentiment, num_return_sequences=1):\n",
    "    examples = negative_examples if sentiment == 'neg' else positive_examples\n",
    "    prompt = f\"Generate a {sentiment} sentiment text in Roman Urdu.\\n\\n\"\n",
    "    for idx, row in examples.iterrows():\n",
    "        prompt += f\"Example: {row['review']}\\n\\n\"\n",
    "    prompt += \"New text:\"\n",
    "\n",
    "    inputs = tokenizer(prompt, return_tensors=\"pt\", max_length=512, truncation=True)\n",
    "    outputs = model.generate(\n",
    "        **inputs,\n",
    "        max_length=150,\n",
    "        num_return_sequences=num_return_sequences,\n",
    "        do_sample=True,\n",
    "        top_k=50,\n",
    "        top_p=0.95,\n",
    "        temperature=0.7\n",
    "    )\n",
    "    texts = [tokenizer.decode(output, skip_special_tokens=True) for output in outputs]\n",
    "    return texts[0] if num_return_sequences == 1 else texts"
   ]
  },
  {
   "cell_type": "code",
   "execution_count": 9,
   "metadata": {},
   "outputs": [],
   "source": [
    "seed_df['paraphrase'] = seed_df['review'].apply(lambda x: generate_paraphrase(x))\n",
    "\n",
    "num_synthetic_per_sentiment = 50\n",
    "synthetic_neg = generate_conditional_text('neg', num_return_sequences=num_synthetic_per_sentiment)\n",
    "synthetic_pos = generate_conditional_text('pos', num_return_sequences=num_synthetic_per_sentiment)\n",
    "\n",
    "conditional_synthetic_df = pd.DataFrame({\n",
    "    'review': synthetic_neg + synthetic_pos,\n",
    "    'sentiment': ['neg'] * num_synthetic_per_sentiment + ['pos'] * num_synthetic_per_sentiment\n",
    "})\n",
    "\n",
    "synthetic_reviews = []\n",
    "synthetic_sentiments = []\n",
    "\n",
    "for col in ['synonym_replacement', 'random_insertion', 'random_swap', 'random_deletion', 'paraphrase']:\n",
    "    synthetic_reviews.extend(seed_df[col].tolist())\n",
    "    synthetic_sentiments.extend(seed_df['sentiment'].tolist())\n",
    "\n",
    "synthetic_reviews.extend(conditional_synthetic_df['review'].tolist())\n",
    "synthetic_sentiments.extend(conditional_synthetic_df['sentiment'].tolist())\n",
    "\n",
    "initial_synthetic_df = pd.DataFrame({\n",
    "    'review': synthetic_reviews,\n",
    "    'sentiment': synthetic_sentiments\n",
    "})"
   ]
  },
  {
   "cell_type": "code",
   "execution_count": 10,
   "metadata": {},
   "outputs": [
    {
     "name": "stderr",
     "output_type": "stream",
     "text": [
      "Read 0M words\n",
      "Number of words:  1086\n",
      "Number of labels: 2\n",
      "Progress: 100.0% words/sec/thread:   51778 lr:  0.000000 avg.loss:  0.153752 ETA:   0h 0m 0s\n"
     ]
    }
   ],
   "source": [
    "import fasttext\n",
    "import os\n",
    "\n",
    "os.makedirs('Models/fasttext_data', exist_ok=True)\n",
    "with open('Models/fasttext_data/seed_train.txt', 'w') as f:\n",
    "    for idx, row in seed_df.iterrows():\n",
    "        label = '__label__' + row['sentiment']\n",
    "        text = row['review'].replace('\\n', ' ')\n",
    "        f.write(f\"{label} {text}\\n\")\n",
    "\n",
    "classifier = fasttext.train_supervised(input='Models/fasttext_data/seed_train.txt', epoch=25, lr=1.0, wordNgrams=2)"
   ]
  },
  {
   "cell_type": "code",
   "execution_count": null,
   "metadata": {},
   "outputs": [
    {
     "name": "stderr",
     "output_type": "stream",
     "text": [
      "/home/Genai/project/.venv/lib/python3.10/site-packages/huggingface_hub/file_download.py:1142: FutureWarning: `resume_download` is deprecated and will be removed in version 1.0.0. Downloads always resume when possible. If you want to force a new download, use `force_download=True`.\n",
      "  warnings.warn(\n",
      "/home/Genai/project/.venv/lib/python3.10/site-packages/trl/models/modeling_base.py:328: FutureWarning: You are using `torch.load` with `weights_only=False` (the current default value), which uses the default pickle module implicitly. It is possible to construct malicious pickle data which will execute arbitrary code during unpickling (See https://github.com/pytorch/pytorch/blob/main/SECURITY.md#untrusted-models for more details). In a future release, the default value for `weights_only` will be flipped to `True`. This limits the functions that could be executed during unpickling. Arbitrary objects will no longer be allowed to be loaded via this mode unless they are explicitly allowlisted by the user via `torch.serialization.add_safe_globals`. We recommend you start setting `weights_only=True` for any use case where you don't have full control of the loaded file. Please open an issue on GitHub for any issues related to this experimental feature.\n",
      "  state_dict = loading_func(filename if not use_safe else safe_filename, **load_kwargs)\n",
      "/home/Genai/project/.venv/lib/python3.10/site-packages/trl/trainer/ppo_trainer.py:257: UserWarning: No dataset is provided. Make sure to set config.batch_size to the correct value before training.\n",
      "  warnings.warn(\n"
     ]
    },
    {
     "name": "stdout",
     "output_type": "stream",
     "text": [
      "Epoch 1/4\n"
     ]
    },
    {
     "name": "stderr",
     "output_type": "stream",
     "text": [
      "  0%|          | 0/100 [00:00<?, ?it/s]/home/Genai/project/.venv/lib/python3.10/site-packages/trl/trainer/ppo_trainer.py:1275: UserWarning: std(): degrees of freedom is <= 0. Correction should be strictly less than the reduction factor (input numel divided by output numel). (Triggered internally at ../aten/src/ATen/native/ReduceOps.cpp:1808.)\n",
      "  std_scores = data[\"scores\"].std()\n",
      "/home/Genai/project/.venv/lib/python3.10/site-packages/trl/trainer/ppo_trainer.py:1302: UserWarning: std(): degrees of freedom is <= 0. Correction should be strictly less than the reduction factor (input numel divided by output numel). (Triggered internally at ../aten/src/ATen/native/ReduceOps.cpp:1808.)\n",
      "  stats[\"tokens/queries_len_std\"] = torch.std(query_lens).cpu().numpy().item()\n",
      "/home/Genai/project/.venv/lib/python3.10/site-packages/trl/trainer/ppo_trainer.py:1305: UserWarning: std(): degrees of freedom is <= 0. Correction should be strictly less than the reduction factor (input numel divided by output numel). (Triggered internally at ../aten/src/ATen/native/ReduceOps.cpp:1808.)\n",
      "  stats[\"tokens/responses_len_std\"] = torch.std(response_lens).cpu().numpy().item()\n",
      "  1%|          | 1/100 [00:02<03:51,  2.34s/it]"
     ]
    },
    {
     "name": "stdout",
     "output_type": "stream",
     "text": [
      "Example 0, Reward: 0.9531\n"
     ]
    },
    {
     "name": "stderr",
     "output_type": "stream",
     "text": [
      "  5%|▌         | 5/100 [00:10<03:24,  2.16s/it]/home/Genai/project/.venv/lib/python3.10/site-packages/trl/trainer/ppo_trainer.py:1279: UserWarning: KL divergence is starting to become negative: -2.26 - this might be a precursor for failed training. sometimes this happens because the generation kwargs are not correctly set. Please make sure that the generation kwargs are set correctly, or review your training hyperparameters.\n",
      "  warnings.warn(\n",
      "  7%|▋         | 7/100 [00:13<02:44,  1.76s/it]/home/Genai/project/.venv/lib/python3.10/site-packages/trl/trainer/ppo_trainer.py:1279: UserWarning: KL divergence is starting to become negative: -1.27 - this might be a precursor for failed training. sometimes this happens because the generation kwargs are not correctly set. Please make sure that the generation kwargs are set correctly, or review your training hyperparameters.\n",
      "  warnings.warn(\n",
      " 11%|█         | 11/100 [00:17<02:05,  1.41s/it]"
     ]
    },
    {
     "name": "stdout",
     "output_type": "stream",
     "text": [
      "Example 10, Reward: 0.7894\n"
     ]
    },
    {
     "name": "stderr",
     "output_type": "stream",
     "text": [
      " 16%|█▌        | 16/100 [00:29<02:33,  1.83s/it]/home/Genai/project/.venv/lib/python3.10/site-packages/trl/trainer/ppo_trainer.py:1279: UserWarning: KL divergence is starting to become negative: -1.66 - this might be a precursor for failed training. sometimes this happens because the generation kwargs are not correctly set. Please make sure that the generation kwargs are set correctly, or review your training hyperparameters.\n",
      "  warnings.warn(\n",
      " 21%|██        | 21/100 [00:40<02:42,  2.06s/it]"
     ]
    },
    {
     "name": "stdout",
     "output_type": "stream",
     "text": [
      "Example 20, Reward: 0.1750\n"
     ]
    },
    {
     "name": "stderr",
     "output_type": "stream",
     "text": [
      " 22%|██▏       | 22/100 [00:43<02:58,  2.29s/it]/home/Genai/project/.venv/lib/python3.10/site-packages/trl/trainer/ppo_trainer.py:1279: UserWarning: KL divergence is starting to become negative: -1.57 - this might be a precursor for failed training. sometimes this happens because the generation kwargs are not correctly set. Please make sure that the generation kwargs are set correctly, or review your training hyperparameters.\n",
      "  warnings.warn(\n",
      " 27%|██▋       | 27/100 [00:49<01:52,  1.54s/it]/home/Genai/project/.venv/lib/python3.10/site-packages/trl/trainer/ppo_trainer.py:1279: UserWarning: KL divergence is starting to become negative: -1.21 - this might be a precursor for failed training. sometimes this happens because the generation kwargs are not correctly set. Please make sure that the generation kwargs are set correctly, or review your training hyperparameters.\n",
      "  warnings.warn(\n",
      " 29%|██▉       | 29/100 [00:53<02:18,  1.94s/it]/home/Genai/project/.venv/lib/python3.10/site-packages/trl/trainer/ppo_trainer.py:1279: UserWarning: KL divergence is starting to become negative: -2.30 - this might be a precursor for failed training. sometimes this happens because the generation kwargs are not correctly set. Please make sure that the generation kwargs are set correctly, or review your training hyperparameters.\n",
      "  warnings.warn(\n",
      " 30%|███       | 30/100 [00:56<02:19,  2.00s/it]/home/Genai/project/.venv/lib/python3.10/site-packages/trl/trainer/ppo_trainer.py:1279: UserWarning: KL divergence is starting to become negative: -1.45 - this might be a precursor for failed training. sometimes this happens because the generation kwargs are not correctly set. Please make sure that the generation kwargs are set correctly, or review your training hyperparameters.\n",
      "  warnings.warn(\n",
      " 31%|███       | 31/100 [00:58<02:24,  2.09s/it]"
     ]
    },
    {
     "name": "stdout",
     "output_type": "stream",
     "text": [
      "Example 30, Reward: 0.9275\n"
     ]
    },
    {
     "name": "stderr",
     "output_type": "stream",
     "text": [
      "/home/Genai/project/.venv/lib/python3.10/site-packages/trl/trainer/ppo_trainer.py:1279: UserWarning: KL divergence is starting to become negative: -4.26 - this might be a precursor for failed training. sometimes this happens because the generation kwargs are not correctly set. Please make sure that the generation kwargs are set correctly, or review your training hyperparameters.\n",
      "  warnings.warn(\n",
      " 41%|████      | 41/100 [01:13<00:55,  1.07it/s]"
     ]
    },
    {
     "name": "stdout",
     "output_type": "stream",
     "text": [
      "Example 40, Reward: 0.6146\n"
     ]
    },
    {
     "name": "stderr",
     "output_type": "stream",
     "text": [
      " 42%|████▏     | 42/100 [01:14<01:03,  1.09s/it]/home/Genai/project/.venv/lib/python3.10/site-packages/trl/trainer/ppo_trainer.py:1279: UserWarning: KL divergence is starting to become negative: -1.95 - this might be a precursor for failed training. sometimes this happens because the generation kwargs are not correctly set. Please make sure that the generation kwargs are set correctly, or review your training hyperparameters.\n",
      "  warnings.warn(\n",
      " 44%|████▍     | 44/100 [01:18<01:17,  1.39s/it]/home/Genai/project/.venv/lib/python3.10/site-packages/trl/trainer/ppo_trainer.py:1279: UserWarning: KL divergence is starting to become negative: -1.91 - this might be a precursor for failed training. sometimes this happens because the generation kwargs are not correctly set. Please make sure that the generation kwargs are set correctly, or review your training hyperparameters.\n",
      "  warnings.warn(\n",
      " 46%|████▌     | 46/100 [01:24<01:46,  1.97s/it]/home/Genai/project/.venv/lib/python3.10/site-packages/trl/trainer/ppo_trainer.py:1279: UserWarning: KL divergence is starting to become negative: -1.24 - this might be a precursor for failed training. sometimes this happens because the generation kwargs are not correctly set. Please make sure that the generation kwargs are set correctly, or review your training hyperparameters.\n",
      "  warnings.warn(\n",
      " 48%|████▊     | 48/100 [01:25<01:04,  1.25s/it]"
     ]
    },
    {
     "name": "stdout",
     "output_type": "stream",
     "text": [
      "Skipping example 47 with very low reward: 0.0020\n"
     ]
    },
    {
     "name": "stderr",
     "output_type": "stream",
     "text": [
      "/home/Genai/project/.venv/lib/python3.10/site-packages/trl/trainer/ppo_trainer.py:1279: UserWarning: KL divergence is starting to become negative: -1.75 - this might be a precursor for failed training. sometimes this happens because the generation kwargs are not correctly set. Please make sure that the generation kwargs are set correctly, or review your training hyperparameters.\n",
      "  warnings.warn(\n",
      " 51%|█████     | 51/100 [01:30<01:15,  1.54s/it]"
     ]
    },
    {
     "name": "stdout",
     "output_type": "stream",
     "text": [
      "Example 50, Reward: 0.8186\n"
     ]
    },
    {
     "name": "stderr",
     "output_type": "stream",
     "text": [
      " 55%|█████▌    | 55/100 [01:39<01:36,  2.15s/it]/home/Genai/project/.venv/lib/python3.10/site-packages/trl/trainer/ppo_trainer.py:1279: UserWarning: KL divergence is starting to become negative: -1.78 - this might be a precursor for failed training. sometimes this happens because the generation kwargs are not correctly set. Please make sure that the generation kwargs are set correctly, or review your training hyperparameters.\n",
      "  warnings.warn(\n",
      " 57%|█████▋    | 57/100 [01:43<01:27,  2.03s/it]/home/Genai/project/.venv/lib/python3.10/site-packages/trl/trainer/ppo_trainer.py:1279: UserWarning: KL divergence is starting to become negative: -1.23 - this might be a precursor for failed training. sometimes this happens because the generation kwargs are not correctly set. Please make sure that the generation kwargs are set correctly, or review your training hyperparameters.\n",
      "  warnings.warn(\n",
      " 58%|█████▊    | 58/100 [01:44<01:16,  1.82s/it]/home/Genai/project/.venv/lib/python3.10/site-packages/trl/trainer/ppo_trainer.py:1279: UserWarning: KL divergence is starting to become negative: -12.48 - this might be a precursor for failed training. sometimes this happens because the generation kwargs are not correctly set. Please make sure that the generation kwargs are set correctly, or review your training hyperparameters.\n",
      "  warnings.warn(\n",
      " 61%|██████    | 61/100 [01:49<01:05,  1.69s/it]"
     ]
    },
    {
     "name": "stdout",
     "output_type": "stream",
     "text": [
      "Example 60, Reward: 0.9083\n"
     ]
    },
    {
     "name": "stderr",
     "output_type": "stream",
     "text": [
      "/home/Genai/project/.venv/lib/python3.10/site-packages/trl/trainer/ppo_trainer.py:1279: UserWarning: KL divergence is starting to become negative: -1.94 - this might be a precursor for failed training. sometimes this happens because the generation kwargs are not correctly set. Please make sure that the generation kwargs are set correctly, or review your training hyperparameters.\n",
      "  warnings.warn(\n",
      " 62%|██████▏   | 62/100 [01:53<01:25,  2.26s/it]/home/Genai/project/.venv/lib/python3.10/site-packages/trl/trainer/ppo_trainer.py:1279: UserWarning: KL divergence is starting to become negative: -5.76 - this might be a precursor for failed training. sometimes this happens because the generation kwargs are not correctly set. Please make sure that the generation kwargs are set correctly, or review your training hyperparameters.\n",
      "  warnings.warn(\n",
      " 65%|██████▌   | 65/100 [01:59<01:18,  2.26s/it]/home/Genai/project/.venv/lib/python3.10/site-packages/trl/trainer/ppo_trainer.py:1279: UserWarning: KL divergence is starting to become negative: -1.83 - this might be a precursor for failed training. sometimes this happens because the generation kwargs are not correctly set. Please make sure that the generation kwargs are set correctly, or review your training hyperparameters.\n",
      "  warnings.warn(\n",
      " 68%|██████▊   | 68/100 [02:03<00:50,  1.59s/it]/home/Genai/project/.venv/lib/python3.10/site-packages/trl/trainer/ppo_trainer.py:1279: UserWarning: KL divergence is starting to become negative: -4.85 - this might be a precursor for failed training. sometimes this happens because the generation kwargs are not correctly set. Please make sure that the generation kwargs are set correctly, or review your training hyperparameters.\n",
      "  warnings.warn(\n",
      " 70%|███████   | 70/100 [02:06<00:48,  1.62s/it]/home/Genai/project/.venv/lib/python3.10/site-packages/trl/trainer/ppo_trainer.py:1279: UserWarning: KL divergence is starting to become negative: -2.47 - this might be a precursor for failed training. sometimes this happens because the generation kwargs are not correctly set. Please make sure that the generation kwargs are set correctly, or review your training hyperparameters.\n",
      "  warnings.warn(\n",
      " 71%|███████   | 71/100 [02:08<00:46,  1.60s/it]"
     ]
    },
    {
     "name": "stdout",
     "output_type": "stream",
     "text": [
      "Example 70, Reward: 0.6387\n"
     ]
    },
    {
     "name": "stderr",
     "output_type": "stream",
     "text": [
      "/home/Genai/project/.venv/lib/python3.10/site-packages/trl/trainer/ppo_trainer.py:1279: UserWarning: KL divergence is starting to become negative: -16.89 - this might be a precursor for failed training. sometimes this happens because the generation kwargs are not correctly set. Please make sure that the generation kwargs are set correctly, or review your training hyperparameters.\n",
      "  warnings.warn(\n",
      " 74%|███████▍  | 74/100 [02:13<00:41,  1.59s/it]/home/Genai/project/.venv/lib/python3.10/site-packages/trl/trainer/ppo_trainer.py:1279: UserWarning: KL divergence is starting to become negative: -1.07 - this might be a precursor for failed training. sometimes this happens because the generation kwargs are not correctly set. Please make sure that the generation kwargs are set correctly, or review your training hyperparameters.\n",
      "  warnings.warn(\n",
      " 77%|███████▋  | 77/100 [02:20<00:49,  2.17s/it]/home/Genai/project/.venv/lib/python3.10/site-packages/trl/trainer/ppo_trainer.py:1279: UserWarning: KL divergence is starting to become negative: -1.51 - this might be a precursor for failed training. sometimes this happens because the generation kwargs are not correctly set. Please make sure that the generation kwargs are set correctly, or review your training hyperparameters.\n",
      "  warnings.warn(\n",
      " 81%|████████  | 81/100 [02:32<00:52,  2.75s/it]"
     ]
    },
    {
     "name": "stdout",
     "output_type": "stream",
     "text": [
      "Example 80, Reward: 0.9164\n"
     ]
    },
    {
     "name": "stderr",
     "output_type": "stream",
     "text": [
      " 86%|████████▌ | 86/100 [02:40<00:25,  1.85s/it]/home/Genai/project/.venv/lib/python3.10/site-packages/trl/trainer/ppo_trainer.py:1279: UserWarning: KL divergence is starting to become negative: -1.14 - this might be a precursor for failed training. sometimes this happens because the generation kwargs are not correctly set. Please make sure that the generation kwargs are set correctly, or review your training hyperparameters.\n",
      "  warnings.warn(\n",
      " 88%|████████▊ | 88/100 [02:41<00:14,  1.19s/it]/home/Genai/project/.venv/lib/python3.10/site-packages/trl/trainer/ppo_trainer.py:1279: UserWarning: KL divergence is starting to become negative: -5.10 - this might be a precursor for failed training. sometimes this happens because the generation kwargs are not correctly set. Please make sure that the generation kwargs are set correctly, or review your training hyperparameters.\n",
      "  warnings.warn(\n",
      " 89%|████████▉ | 89/100 [02:44<00:19,  1.75s/it]/home/Genai/project/.venv/lib/python3.10/site-packages/trl/trainer/ppo_trainer.py:1279: UserWarning: KL divergence is starting to become negative: -4.52 - this might be a precursor for failed training. sometimes this happens because the generation kwargs are not correctly set. Please make sure that the generation kwargs are set correctly, or review your training hyperparameters.\n",
      "  warnings.warn(\n",
      " 90%|█████████ | 90/100 [02:47<00:20,  2.02s/it]/home/Genai/project/.venv/lib/python3.10/site-packages/trl/trainer/ppo_trainer.py:1279: UserWarning: KL divergence is starting to become negative: -5.56 - this might be a precursor for failed training. sometimes this happens because the generation kwargs are not correctly set. Please make sure that the generation kwargs are set correctly, or review your training hyperparameters.\n",
      "  warnings.warn(\n",
      " 91%|█████████ | 91/100 [02:49<00:18,  2.01s/it]"
     ]
    },
    {
     "name": "stdout",
     "output_type": "stream",
     "text": [
      "Example 90, Reward: 0.9872\n"
     ]
    },
    {
     "name": "stderr",
     "output_type": "stream",
     "text": [
      "/home/Genai/project/.venv/lib/python3.10/site-packages/trl/trainer/ppo_trainer.py:1279: UserWarning: KL divergence is starting to become negative: -5.11 - this might be a precursor for failed training. sometimes this happens because the generation kwargs are not correctly set. Please make sure that the generation kwargs are set correctly, or review your training hyperparameters.\n",
      "  warnings.warn(\n",
      " 96%|█████████▌| 96/100 [02:57<00:07,  1.82s/it]/home/Genai/project/.venv/lib/python3.10/site-packages/trl/trainer/ppo_trainer.py:1279: UserWarning: KL divergence is starting to become negative: -1.35 - this might be a precursor for failed training. sometimes this happens because the generation kwargs are not correctly set. Please make sure that the generation kwargs are set correctly, or review your training hyperparameters.\n",
      "  warnings.warn(\n",
      "100%|██████████| 100/100 [03:07<00:00,  1.88s/it]\n"
     ]
    },
    {
     "name": "stdout",
     "output_type": "stream",
     "text": [
      "Epoch 1 complete - Avg reward: 0.7914\n",
      "Epoch 2/4\n"
     ]
    },
    {
     "name": "stderr",
     "output_type": "stream",
     "text": [
      "  1%|          | 1/100 [00:00<00:31,  3.10it/s]"
     ]
    },
    {
     "name": "stdout",
     "output_type": "stream",
     "text": [
      "Example 0, Reward: 0.3430\n"
     ]
    },
    {
     "name": "stderr",
     "output_type": "stream",
     "text": [
      "  9%|▉         | 9/100 [00:17<03:19,  2.19s/it]/home/Genai/project/.venv/lib/python3.10/site-packages/trl/trainer/ppo_trainer.py:1279: UserWarning: KL divergence is starting to become negative: -12.79 - this might be a precursor for failed training. sometimes this happens because the generation kwargs are not correctly set. Please make sure that the generation kwargs are set correctly, or review your training hyperparameters.\n",
      "  warnings.warn(\n",
      " 11%|█         | 11/100 [00:20<02:48,  1.89s/it]"
     ]
    },
    {
     "name": "stdout",
     "output_type": "stream",
     "text": [
      "Example 10, Reward: 0.9104\n"
     ]
    },
    {
     "name": "stderr",
     "output_type": "stream",
     "text": [
      " 12%|█▏        | 12/100 [00:22<02:41,  1.83s/it]/home/Genai/project/.venv/lib/python3.10/site-packages/trl/trainer/ppo_trainer.py:1279: UserWarning: KL divergence is starting to become negative: -2.46 - this might be a precursor for failed training. sometimes this happens because the generation kwargs are not correctly set. Please make sure that the generation kwargs are set correctly, or review your training hyperparameters.\n",
      "  warnings.warn(\n",
      " 13%|█▎        | 13/100 [00:24<02:48,  1.94s/it]/home/Genai/project/.venv/lib/python3.10/site-packages/trl/trainer/ppo_trainer.py:1279: UserWarning: KL divergence is starting to become negative: -1.73 - this might be a precursor for failed training. sometimes this happens because the generation kwargs are not correctly set. Please make sure that the generation kwargs are set correctly, or review your training hyperparameters.\n",
      "  warnings.warn(\n",
      " 20%|██        | 20/100 [00:37<02:13,  1.67s/it]"
     ]
    },
    {
     "name": "stdout",
     "output_type": "stream",
     "text": [
      "Skipping example 19 with very low reward: 0.0493\n"
     ]
    },
    {
     "name": "stderr",
     "output_type": "stream",
     "text": [
      " 21%|██        | 21/100 [00:38<01:54,  1.45s/it]"
     ]
    },
    {
     "name": "stdout",
     "output_type": "stream",
     "text": [
      "Example 20, Reward: 0.0886\n"
     ]
    },
    {
     "name": "stderr",
     "output_type": "stream",
     "text": [
      " 31%|███       | 31/100 [00:56<01:36,  1.40s/it]"
     ]
    },
    {
     "name": "stdout",
     "output_type": "stream",
     "text": [
      "Skipping example 30 with very low reward: 0.0279\n"
     ]
    },
    {
     "name": "stderr",
     "output_type": "stream",
     "text": [
      " 32%|███▏      | 32/100 [00:58<01:48,  1.60s/it]/home/Genai/project/.venv/lib/python3.10/site-packages/trl/trainer/ppo_trainer.py:1279: UserWarning: KL divergence is starting to become negative: -2.23 - this might be a precursor for failed training. sometimes this happens because the generation kwargs are not correctly set. Please make sure that the generation kwargs are set correctly, or review your training hyperparameters.\n",
      "  warnings.warn(\n",
      " 33%|███▎      | 33/100 [01:00<01:46,  1.59s/it]/home/Genai/project/.venv/lib/python3.10/site-packages/trl/trainer/ppo_trainer.py:1279: UserWarning: KL divergence is starting to become negative: -4.33 - this might be a precursor for failed training. sometimes this happens because the generation kwargs are not correctly set. Please make sure that the generation kwargs are set correctly, or review your training hyperparameters.\n",
      "  warnings.warn(\n"
     ]
    },
    {
     "name": "stdout",
     "output_type": "stream",
     "text": [
      "Skipping example 34 with very low reward: 0.0118\n"
     ]
    },
    {
     "name": "stderr",
     "output_type": "stream",
     "text": [
      " 38%|███▊      | 38/100 [01:05<01:21,  1.31s/it]/home/Genai/project/.venv/lib/python3.10/site-packages/trl/trainer/ppo_trainer.py:1279: UserWarning: KL divergence is starting to become negative: -1.49 - this might be a precursor for failed training. sometimes this happens because the generation kwargs are not correctly set. Please make sure that the generation kwargs are set correctly, or review your training hyperparameters.\n",
      "  warnings.warn(\n",
      " 41%|████      | 41/100 [01:10<01:40,  1.70s/it]"
     ]
    },
    {
     "name": "stdout",
     "output_type": "stream",
     "text": [
      "Example 40, Reward: 0.8326\n"
     ]
    },
    {
     "name": "stderr",
     "output_type": "stream",
     "text": [
      " 44%|████▍     | 44/100 [01:15<01:31,  1.63s/it]/home/Genai/project/.venv/lib/python3.10/site-packages/trl/trainer/ppo_trainer.py:1279: UserWarning: KL divergence is starting to become negative: -2.15 - this might be a precursor for failed training. sometimes this happens because the generation kwargs are not correctly set. Please make sure that the generation kwargs are set correctly, or review your training hyperparameters.\n",
      "  warnings.warn(\n",
      " 47%|████▋     | 47/100 [01:22<01:57,  2.23s/it]/home/Genai/project/.venv/lib/python3.10/site-packages/trl/trainer/ppo_trainer.py:1279: UserWarning: KL divergence is starting to become negative: -5.69 - this might be a precursor for failed training. sometimes this happens because the generation kwargs are not correctly set. Please make sure that the generation kwargs are set correctly, or review your training hyperparameters.\n",
      "  warnings.warn(\n",
      " 51%|█████     | 51/100 [01:29<01:15,  1.53s/it]"
     ]
    },
    {
     "name": "stdout",
     "output_type": "stream",
     "text": [
      "Example 50, Reward: 0.9488\n"
     ]
    },
    {
     "name": "stderr",
     "output_type": "stream",
     "text": [
      "/home/Genai/project/.venv/lib/python3.10/site-packages/trl/trainer/ppo_trainer.py:1279: UserWarning: KL divergence is starting to become negative: -3.37 - this might be a precursor for failed training. sometimes this happens because the generation kwargs are not correctly set. Please make sure that the generation kwargs are set correctly, or review your training hyperparameters.\n",
      "  warnings.warn(\n",
      " 56%|█████▌    | 56/100 [01:39<01:19,  1.81s/it]/home/Genai/project/.venv/lib/python3.10/site-packages/trl/trainer/ppo_trainer.py:1279: UserWarning: KL divergence is starting to become negative: -1.34 - this might be a precursor for failed training. sometimes this happens because the generation kwargs are not correctly set. Please make sure that the generation kwargs are set correctly, or review your training hyperparameters.\n",
      "  warnings.warn(\n",
      " 60%|██████    | 60/100 [01:46<01:04,  1.61s/it]/home/Genai/project/.venv/lib/python3.10/site-packages/trl/trainer/ppo_trainer.py:1279: UserWarning: KL divergence is starting to become negative: -2.56 - this might be a precursor for failed training. sometimes this happens because the generation kwargs are not correctly set. Please make sure that the generation kwargs are set correctly, or review your training hyperparameters.\n",
      "  warnings.warn(\n",
      " 61%|██████    | 61/100 [01:46<00:55,  1.42s/it]"
     ]
    },
    {
     "name": "stdout",
     "output_type": "stream",
     "text": [
      "Example 60, Reward: 0.3837\n"
     ]
    },
    {
     "name": "stderr",
     "output_type": "stream",
     "text": [
      " 71%|███████   | 71/100 [02:01<00:34,  1.20s/it]"
     ]
    },
    {
     "name": "stdout",
     "output_type": "stream",
     "text": [
      "Example 70, Reward: 0.9483\n"
     ]
    },
    {
     "name": "stderr",
     "output_type": "stream",
     "text": [
      " 72%|███████▏  | 72/100 [02:02<00:34,  1.24s/it]/home/Genai/project/.venv/lib/python3.10/site-packages/trl/trainer/ppo_trainer.py:1279: UserWarning: KL divergence is starting to become negative: -5.79 - this might be a precursor for failed training. sometimes this happens because the generation kwargs are not correctly set. Please make sure that the generation kwargs are set correctly, or review your training hyperparameters.\n",
      "  warnings.warn(\n",
      " 73%|███████▎  | 73/100 [02:04<00:37,  1.40s/it]/home/Genai/project/.venv/lib/python3.10/site-packages/trl/trainer/ppo_trainer.py:1279: UserWarning: KL divergence is starting to become negative: -4.13 - this might be a precursor for failed training. sometimes this happens because the generation kwargs are not correctly set. Please make sure that the generation kwargs are set correctly, or review your training hyperparameters.\n",
      "  warnings.warn(\n",
      " 75%|███████▌  | 75/100 [02:07<00:36,  1.47s/it]/home/Genai/project/.venv/lib/python3.10/site-packages/trl/trainer/ppo_trainer.py:1279: UserWarning: KL divergence is starting to become negative: -1.52 - this might be a precursor for failed training. sometimes this happens because the generation kwargs are not correctly set. Please make sure that the generation kwargs are set correctly, or review your training hyperparameters.\n",
      "  warnings.warn(\n",
      " 81%|████████  | 81/100 [02:18<00:32,  1.72s/it]"
     ]
    },
    {
     "name": "stdout",
     "output_type": "stream",
     "text": [
      "Example 80, Reward: 0.9873\n"
     ]
    },
    {
     "name": "stderr",
     "output_type": "stream",
     "text": [
      " 91%|█████████ | 91/100 [02:34<00:12,  1.39s/it]"
     ]
    },
    {
     "name": "stdout",
     "output_type": "stream",
     "text": [
      "Example 90, Reward: 0.9706\n"
     ]
    },
    {
     "name": "stderr",
     "output_type": "stream",
     "text": [
      " 93%|█████████▎| 93/100 [02:38<00:11,  1.71s/it]/home/Genai/project/.venv/lib/python3.10/site-packages/trl/trainer/ppo_trainer.py:1279: UserWarning: KL divergence is starting to become negative: -1.48 - this might be a precursor for failed training. sometimes this happens because the generation kwargs are not correctly set. Please make sure that the generation kwargs are set correctly, or review your training hyperparameters.\n",
      "  warnings.warn(\n",
      " 95%|█████████▌| 95/100 [02:42<00:08,  1.78s/it]/home/Genai/project/.venv/lib/python3.10/site-packages/trl/trainer/ppo_trainer.py:1279: UserWarning: KL divergence is starting to become negative: -5.20 - this might be a precursor for failed training. sometimes this happens because the generation kwargs are not correctly set. Please make sure that the generation kwargs are set correctly, or review your training hyperparameters.\n",
      "  warnings.warn(\n",
      "100%|██████████| 100/100 [02:56<00:00,  1.76s/it]\n"
     ]
    },
    {
     "name": "stdout",
     "output_type": "stream",
     "text": [
      "Epoch 2 complete - Avg reward: 0.7740\n",
      "Epoch 3/4\n"
     ]
    },
    {
     "name": "stderr",
     "output_type": "stream",
     "text": [
      "  0%|          | 0/100 [00:00<?, ?it/s]"
     ]
    },
    {
     "name": "stdout",
     "output_type": "stream",
     "text": [
      "Example 0, Reward: 0.9026\n"
     ]
    },
    {
     "name": "stderr",
     "output_type": "stream",
     "text": [
      "  5%|▌         | 5/100 [00:04<01:25,  1.10it/s]/home/Genai/project/.venv/lib/python3.10/site-packages/trl/trainer/ppo_trainer.py:1279: UserWarning: KL divergence is starting to become negative: -5.35 - this might be a precursor for failed training. sometimes this happens because the generation kwargs are not correctly set. Please make sure that the generation kwargs are set correctly, or review your training hyperparameters.\n",
      "  warnings.warn(\n",
      " 11%|█         | 11/100 [00:15<02:48,  1.90s/it]"
     ]
    },
    {
     "name": "stdout",
     "output_type": "stream",
     "text": [
      "Example 10, Reward: 0.5770\n"
     ]
    },
    {
     "name": "stderr",
     "output_type": "stream",
     "text": [
      " 17%|█▋        | 17/100 [00:28<03:02,  2.20s/it]/home/Genai/project/.venv/lib/python3.10/site-packages/trl/trainer/ppo_trainer.py:1279: UserWarning: KL divergence is starting to become negative: -2.11 - this might be a precursor for failed training. sometimes this happens because the generation kwargs are not correctly set. Please make sure that the generation kwargs are set correctly, or review your training hyperparameters.\n",
      "  warnings.warn(\n",
      " 19%|█▉        | 19/100 [00:30<02:24,  1.79s/it]/home/Genai/project/.venv/lib/python3.10/site-packages/trl/trainer/ppo_trainer.py:1279: UserWarning: KL divergence is starting to become negative: -3.63 - this might be a precursor for failed training. sometimes this happens because the generation kwargs are not correctly set. Please make sure that the generation kwargs are set correctly, or review your training hyperparameters.\n",
      "  warnings.warn(\n",
      " 21%|██        | 21/100 [00:34<02:24,  1.83s/it]"
     ]
    },
    {
     "name": "stdout",
     "output_type": "stream",
     "text": [
      "Example 20, Reward: 0.9976\n"
     ]
    },
    {
     "name": "stderr",
     "output_type": "stream",
     "text": [
      "/home/Genai/project/.venv/lib/python3.10/site-packages/trl/trainer/ppo_trainer.py:1279: UserWarning: KL divergence is starting to become negative: -1.71 - this might be a precursor for failed training. sometimes this happens because the generation kwargs are not correctly set. Please make sure that the generation kwargs are set correctly, or review your training hyperparameters.\n",
      "  warnings.warn(\n",
      " 28%|██▊       | 28/100 [00:48<02:03,  1.71s/it]"
     ]
    },
    {
     "name": "stdout",
     "output_type": "stream",
     "text": [
      "Skipping example 27 with very low reward: 0.0008\n"
     ]
    },
    {
     "name": "stderr",
     "output_type": "stream",
     "text": [
      " 30%|███       | 30/100 [00:50<01:27,  1.26s/it]"
     ]
    },
    {
     "name": "stdout",
     "output_type": "stream",
     "text": [
      "Skipping example 29 with very low reward: 0.0040\n"
     ]
    },
    {
     "name": "stderr",
     "output_type": "stream",
     "text": [
      " 31%|███       | 31/100 [00:51<01:26,  1.25s/it]"
     ]
    },
    {
     "name": "stdout",
     "output_type": "stream",
     "text": [
      "Example 30, Reward: 0.9490\n"
     ]
    },
    {
     "name": "stderr",
     "output_type": "stream",
     "text": [
      " 33%|███▎      | 33/100 [00:54<01:36,  1.45s/it]/home/Genai/project/.venv/lib/python3.10/site-packages/trl/trainer/ppo_trainer.py:1279: UserWarning: KL divergence is starting to become negative: -2.07 - this might be a precursor for failed training. sometimes this happens because the generation kwargs are not correctly set. Please make sure that the generation kwargs are set correctly, or review your training hyperparameters.\n",
      "  warnings.warn(\n",
      " 34%|███▍      | 34/100 [00:55<01:28,  1.35s/it]/home/Genai/project/.venv/lib/python3.10/site-packages/trl/trainer/ppo_trainer.py:1279: UserWarning: KL divergence is starting to become negative: -3.47 - this might be a precursor for failed training. sometimes this happens because the generation kwargs are not correctly set. Please make sure that the generation kwargs are set correctly, or review your training hyperparameters.\n",
      "  warnings.warn(\n",
      " 37%|███▋      | 37/100 [01:00<01:27,  1.38s/it]/home/Genai/project/.venv/lib/python3.10/site-packages/trl/trainer/ppo_trainer.py:1279: UserWarning: KL divergence is starting to become negative: -3.06 - this might be a precursor for failed training. sometimes this happens because the generation kwargs are not correctly set. Please make sure that the generation kwargs are set correctly, or review your training hyperparameters.\n",
      "  warnings.warn(\n",
      " 38%|███▊      | 38/100 [01:00<01:16,  1.23s/it]/home/Genai/project/.venv/lib/python3.10/site-packages/trl/trainer/ppo_trainer.py:1279: UserWarning: KL divergence is starting to become negative: -10.82 - this might be a precursor for failed training. sometimes this happens because the generation kwargs are not correctly set. Please make sure that the generation kwargs are set correctly, or review your training hyperparameters.\n",
      "  warnings.warn(\n",
      " 40%|████      | 40/100 [01:05<01:50,  1.84s/it]/home/Genai/project/.venv/lib/python3.10/site-packages/trl/trainer/ppo_trainer.py:1279: UserWarning: KL divergence is starting to become negative: -2.68 - this might be a precursor for failed training. sometimes this happens because the generation kwargs are not correctly set. Please make sure that the generation kwargs are set correctly, or review your training hyperparameters.\n",
      "  warnings.warn(\n",
      " 41%|████      | 41/100 [01:09<02:15,  2.30s/it]"
     ]
    },
    {
     "name": "stdout",
     "output_type": "stream",
     "text": [
      "Example 40, Reward: 0.8492\n"
     ]
    },
    {
     "name": "stderr",
     "output_type": "stream",
     "text": [
      " 51%|█████     | 51/100 [01:24<01:19,  1.63s/it]"
     ]
    },
    {
     "name": "stdout",
     "output_type": "stream",
     "text": [
      "Example 50, Reward: 0.8706\n"
     ]
    },
    {
     "name": "stderr",
     "output_type": "stream",
     "text": [
      " 55%|█████▌    | 55/100 [01:29<00:56,  1.25s/it]/home/Genai/project/.venv/lib/python3.10/site-packages/trl/trainer/ppo_trainer.py:1279: UserWarning: KL divergence is starting to become negative: -2.08 - this might be a precursor for failed training. sometimes this happens because the generation kwargs are not correctly set. Please make sure that the generation kwargs are set correctly, or review your training hyperparameters.\n",
      "  warnings.warn(\n",
      " 61%|██████    | 61/100 [01:40<01:02,  1.61s/it]"
     ]
    },
    {
     "name": "stdout",
     "output_type": "stream",
     "text": [
      "Example 60, Reward: 0.9946\n"
     ]
    },
    {
     "name": "stderr",
     "output_type": "stream",
     "text": [
      " 62%|██████▏   | 62/100 [01:41<00:59,  1.57s/it]/home/Genai/project/.venv/lib/python3.10/site-packages/trl/trainer/ppo_trainer.py:1279: UserWarning: KL divergence is starting to become negative: -2.94 - this might be a precursor for failed training. sometimes this happens because the generation kwargs are not correctly set. Please make sure that the generation kwargs are set correctly, or review your training hyperparameters.\n",
      "  warnings.warn(\n",
      " 63%|██████▎   | 63/100 [01:43<00:59,  1.60s/it]/home/Genai/project/.venv/lib/python3.10/site-packages/trl/trainer/ppo_trainer.py:1279: UserWarning: KL divergence is starting to become negative: -3.27 - this might be a precursor for failed training. sometimes this happens because the generation kwargs are not correctly set. Please make sure that the generation kwargs are set correctly, or review your training hyperparameters.\n",
      "  warnings.warn(\n",
      " 67%|██████▋   | 67/100 [01:49<00:46,  1.41s/it]/home/Genai/project/.venv/lib/python3.10/site-packages/trl/trainer/ppo_trainer.py:1279: UserWarning: KL divergence is starting to become negative: -10.51 - this might be a precursor for failed training. sometimes this happens because the generation kwargs are not correctly set. Please make sure that the generation kwargs are set correctly, or review your training hyperparameters.\n",
      "  warnings.warn(\n",
      " 68%|██████▊   | 68/100 [01:50<00:42,  1.32s/it]/home/Genai/project/.venv/lib/python3.10/site-packages/trl/trainer/ppo_trainer.py:1279: UserWarning: KL divergence is starting to become negative: -1.39 - this might be a precursor for failed training. sometimes this happens because the generation kwargs are not correctly set. Please make sure that the generation kwargs are set correctly, or review your training hyperparameters.\n",
      "  warnings.warn(\n",
      " 71%|███████   | 71/100 [01:55<00:39,  1.35s/it]"
     ]
    },
    {
     "name": "stdout",
     "output_type": "stream",
     "text": [
      "Example 70, Reward: 0.8849\n"
     ]
    },
    {
     "name": "stderr",
     "output_type": "stream",
     "text": [
      " 81%|████████  | 81/100 [02:09<00:35,  1.84s/it]"
     ]
    },
    {
     "name": "stdout",
     "output_type": "stream",
     "text": [
      "Example 80, Reward: 0.9724\n"
     ]
    },
    {
     "name": "stderr",
     "output_type": "stream",
     "text": [
      "/home/Genai/project/.venv/lib/python3.10/site-packages/trl/trainer/ppo_trainer.py:1279: UserWarning: KL divergence is starting to become negative: -4.84 - this might be a precursor for failed training. sometimes this happens because the generation kwargs are not correctly set. Please make sure that the generation kwargs are set correctly, or review your training hyperparameters.\n",
      "  warnings.warn(\n",
      " 82%|████████▏ | 82/100 [02:11<00:29,  1.63s/it]/home/Genai/project/.venv/lib/python3.10/site-packages/trl/trainer/ppo_trainer.py:1279: UserWarning: KL divergence is starting to become negative: -5.68 - this might be a precursor for failed training. sometimes this happens because the generation kwargs are not correctly set. Please make sure that the generation kwargs are set correctly, or review your training hyperparameters.\n",
      "  warnings.warn(\n",
      " 89%|████████▉ | 89/100 [02:20<00:13,  1.24s/it]/home/Genai/project/.venv/lib/python3.10/site-packages/trl/trainer/ppo_trainer.py:1279: UserWarning: KL divergence is starting to become negative: -1.04 - this might be a precursor for failed training. sometimes this happens because the generation kwargs are not correctly set. Please make sure that the generation kwargs are set correctly, or review your training hyperparameters.\n",
      "  warnings.warn(\n",
      " 91%|█████████ | 91/100 [02:23<00:12,  1.37s/it]"
     ]
    },
    {
     "name": "stdout",
     "output_type": "stream",
     "text": [
      "Example 90, Reward: 0.8745\n"
     ]
    },
    {
     "name": "stderr",
     "output_type": "stream",
     "text": [
      " 93%|█████████▎| 93/100 [02:26<00:09,  1.38s/it]/home/Genai/project/.venv/lib/python3.10/site-packages/trl/trainer/ppo_trainer.py:1279: UserWarning: KL divergence is starting to become negative: -2.70 - this might be a precursor for failed training. sometimes this happens because the generation kwargs are not correctly set. Please make sure that the generation kwargs are set correctly, or review your training hyperparameters.\n",
      "  warnings.warn(\n",
      " 99%|█████████▉| 99/100 [02:33<00:01,  1.40s/it]/home/Genai/project/.venv/lib/python3.10/site-packages/trl/trainer/ppo_trainer.py:1279: UserWarning: KL divergence is starting to become negative: -5.49 - this might be a precursor for failed training. sometimes this happens because the generation kwargs are not correctly set. Please make sure that the generation kwargs are set correctly, or review your training hyperparameters.\n",
      "  warnings.warn(\n",
      "100%|██████████| 100/100 [02:34<00:00,  1.55s/it]\n"
     ]
    },
    {
     "name": "stdout",
     "output_type": "stream",
     "text": [
      "Epoch 3 complete - Avg reward: 0.8086\n",
      "Epoch 4/4\n"
     ]
    },
    {
     "name": "stderr",
     "output_type": "stream",
     "text": [
      "  1%|          | 1/100 [00:01<02:50,  1.72s/it]"
     ]
    },
    {
     "name": "stdout",
     "output_type": "stream",
     "text": [
      "Example 0, Reward: 0.8405\n"
     ]
    },
    {
     "name": "stderr",
     "output_type": "stream",
     "text": [
      " 10%|█         | 10/100 [00:16<02:07,  1.42s/it]"
     ]
    },
    {
     "name": "stdout",
     "output_type": "stream",
     "text": [
      "Skipping example 9 with very low reward: 0.0076\n"
     ]
    },
    {
     "name": "stderr",
     "output_type": "stream",
     "text": [
      " 11%|█         | 11/100 [00:18<02:26,  1.64s/it]"
     ]
    },
    {
     "name": "stdout",
     "output_type": "stream",
     "text": [
      "Example 10, Reward: 0.9290\n"
     ]
    },
    {
     "name": "stderr",
     "output_type": "stream",
     "text": [
      " 13%|█▎        | 13/100 [00:21<02:08,  1.47s/it]/home/Genai/project/.venv/lib/python3.10/site-packages/trl/trainer/ppo_trainer.py:1279: UserWarning: KL divergence is starting to become negative: -1.37 - this might be a precursor for failed training. sometimes this happens because the generation kwargs are not correctly set. Please make sure that the generation kwargs are set correctly, or review your training hyperparameters.\n",
      "  warnings.warn(\n",
      " 19%|█▉        | 19/100 [00:28<01:46,  1.31s/it]/home/Genai/project/.venv/lib/python3.10/site-packages/trl/trainer/ppo_trainer.py:1279: UserWarning: KL divergence is starting to become negative: -1.30 - this might be a precursor for failed training. sometimes this happens because the generation kwargs are not correctly set. Please make sure that the generation kwargs are set correctly, or review your training hyperparameters.\n",
      "  warnings.warn(\n",
      " 21%|██        | 21/100 [00:30<01:36,  1.22s/it]"
     ]
    },
    {
     "name": "stdout",
     "output_type": "stream",
     "text": [
      "Example 20, Reward: 0.1049\n"
     ]
    },
    {
     "name": "stderr",
     "output_type": "stream",
     "text": [
      " 22%|██▏       | 22/100 [00:30<01:17,  1.00it/s]"
     ]
    },
    {
     "name": "stdout",
     "output_type": "stream",
     "text": [
      "Skipping example 21 with very low reward: 0.0213\n"
     ]
    },
    {
     "name": "stderr",
     "output_type": "stream",
     "text": [
      "/home/Genai/project/.venv/lib/python3.10/site-packages/trl/trainer/ppo_trainer.py:1279: UserWarning: KL divergence is starting to become negative: -2.79 - this might be a precursor for failed training. sometimes this happens because the generation kwargs are not correctly set. Please make sure that the generation kwargs are set correctly, or review your training hyperparameters.\n",
      "  warnings.warn(\n",
      " 30%|███       | 30/100 [00:41<01:31,  1.31s/it]"
     ]
    },
    {
     "name": "stdout",
     "output_type": "stream",
     "text": [
      "Skipping example 29 with very low reward: 0.0486\n"
     ]
    },
    {
     "name": "stderr",
     "output_type": "stream",
     "text": [
      " 31%|███       | 31/100 [00:42<01:25,  1.24s/it]"
     ]
    },
    {
     "name": "stdout",
     "output_type": "stream",
     "text": [
      "Example 30, Reward: 0.0565\n"
     ]
    },
    {
     "name": "stderr",
     "output_type": "stream",
     "text": [
      " 34%|███▍      | 34/100 [00:49<01:49,  1.66s/it]/home/Genai/project/.venv/lib/python3.10/site-packages/trl/trainer/ppo_trainer.py:1279: UserWarning: KL divergence is starting to become negative: -15.30 - this might be a precursor for failed training. sometimes this happens because the generation kwargs are not correctly set. Please make sure that the generation kwargs are set correctly, or review your training hyperparameters.\n",
      "  warnings.warn(\n",
      " 38%|███▊      | 38/100 [00:56<01:53,  1.83s/it]/home/Genai/project/.venv/lib/python3.10/site-packages/trl/trainer/ppo_trainer.py:1279: UserWarning: KL divergence is starting to become negative: -6.15 - this might be a precursor for failed training. sometimes this happens because the generation kwargs are not correctly set. Please make sure that the generation kwargs are set correctly, or review your training hyperparameters.\n",
      "  warnings.warn(\n",
      " 41%|████      | 41/100 [01:02<02:09,  2.19s/it]"
     ]
    },
    {
     "name": "stdout",
     "output_type": "stream",
     "text": [
      "Example 40, Reward: 0.8956\n"
     ]
    },
    {
     "name": "stderr",
     "output_type": "stream",
     "text": [
      " 44%|████▍     | 44/100 [01:07<01:43,  1.85s/it]/home/Genai/project/.venv/lib/python3.10/site-packages/trl/trainer/ppo_trainer.py:1279: UserWarning: KL divergence is starting to become negative: -8.22 - this might be a precursor for failed training. sometimes this happens because the generation kwargs are not correctly set. Please make sure that the generation kwargs are set correctly, or review your training hyperparameters.\n",
      "  warnings.warn(\n",
      " 49%|████▉     | 49/100 [01:17<01:42,  2.01s/it]/home/Genai/project/.venv/lib/python3.10/site-packages/trl/trainer/ppo_trainer.py:1279: UserWarning: KL divergence is starting to become negative: -3.40 - this might be a precursor for failed training. sometimes this happens because the generation kwargs are not correctly set. Please make sure that the generation kwargs are set correctly, or review your training hyperparameters.\n",
      "  warnings.warn(\n",
      " 51%|█████     | 51/100 [01:20<01:24,  1.73s/it]"
     ]
    },
    {
     "name": "stdout",
     "output_type": "stream",
     "text": [
      "Example 50, Reward: 0.8272\n"
     ]
    },
    {
     "name": "stderr",
     "output_type": "stream",
     "text": [
      " 53%|█████▎    | 53/100 [01:23<01:18,  1.67s/it]/home/Genai/project/.venv/lib/python3.10/site-packages/trl/trainer/ppo_trainer.py:1279: UserWarning: KL divergence is starting to become negative: -2.85 - this might be a precursor for failed training. sometimes this happens because the generation kwargs are not correctly set. Please make sure that the generation kwargs are set correctly, or review your training hyperparameters.\n",
      "  warnings.warn(\n",
      " 61%|██████    | 61/100 [01:41<01:15,  1.94s/it]"
     ]
    },
    {
     "name": "stdout",
     "output_type": "stream",
     "text": [
      "Example 60, Reward: 0.9086\n"
     ]
    },
    {
     "name": "stderr",
     "output_type": "stream",
     "text": [
      " 62%|██████▏   | 62/100 [01:44<01:23,  2.19s/it]/home/Genai/project/.venv/lib/python3.10/site-packages/trl/trainer/ppo_trainer.py:1279: UserWarning: KL divergence is starting to become negative: -1.59 - this might be a precursor for failed training. sometimes this happens because the generation kwargs are not correctly set. Please make sure that the generation kwargs are set correctly, or review your training hyperparameters.\n",
      "  warnings.warn(\n",
      " 68%|██████▊   | 68/100 [01:51<00:36,  1.15s/it]/home/Genai/project/.venv/lib/python3.10/site-packages/trl/trainer/ppo_trainer.py:1279: UserWarning: KL divergence is starting to become negative: -1.64 - this might be a precursor for failed training. sometimes this happens because the generation kwargs are not correctly set. Please make sure that the generation kwargs are set correctly, or review your training hyperparameters.\n",
      "  warnings.warn(\n",
      " 71%|███████   | 71/100 [01:56<00:37,  1.29s/it]"
     ]
    },
    {
     "name": "stdout",
     "output_type": "stream",
     "text": [
      "Example 70, Reward: 0.9233\n"
     ]
    },
    {
     "name": "stderr",
     "output_type": "stream",
     "text": [
      " 76%|███████▌  | 76/100 [02:04<00:40,  1.69s/it]/home/Genai/project/.venv/lib/python3.10/site-packages/trl/trainer/ppo_trainer.py:1279: UserWarning: KL divergence is starting to become negative: -5.09 - this might be a precursor for failed training. sometimes this happens because the generation kwargs are not correctly set. Please make sure that the generation kwargs are set correctly, or review your training hyperparameters.\n",
      "  warnings.warn(\n",
      " 77%|███████▋  | 77/100 [02:08<00:52,  2.28s/it]/home/Genai/project/.venv/lib/python3.10/site-packages/trl/trainer/ppo_trainer.py:1279: UserWarning: KL divergence is starting to become negative: -3.59 - this might be a precursor for failed training. sometimes this happens because the generation kwargs are not correctly set. Please make sure that the generation kwargs are set correctly, or review your training hyperparameters.\n",
      "  warnings.warn(\n",
      " 81%|████████  | 81/100 [02:17<00:41,  2.19s/it]"
     ]
    },
    {
     "name": "stdout",
     "output_type": "stream",
     "text": [
      "Example 80, Reward: 0.9840\n"
     ]
    },
    {
     "name": "stderr",
     "output_type": "stream",
     "text": [
      " 83%|████████▎ | 83/100 [02:19<00:27,  1.62s/it]/home/Genai/project/.venv/lib/python3.10/site-packages/trl/trainer/ppo_trainer.py:1279: UserWarning: KL divergence is starting to become negative: -3.95 - this might be a precursor for failed training. sometimes this happens because the generation kwargs are not correctly set. Please make sure that the generation kwargs are set correctly, or review your training hyperparameters.\n",
      "  warnings.warn(\n",
      " 87%|████████▋ | 87/100 [02:22<00:13,  1.04s/it]/home/Genai/project/.venv/lib/python3.10/site-packages/trl/trainer/ppo_trainer.py:1279: UserWarning: KL divergence is starting to become negative: -9.70 - this might be a precursor for failed training. sometimes this happens because the generation kwargs are not correctly set. Please make sure that the generation kwargs are set correctly, or review your training hyperparameters.\n",
      "  warnings.warn(\n",
      " 91%|█████████ | 91/100 [02:29<00:13,  1.55s/it]"
     ]
    },
    {
     "name": "stdout",
     "output_type": "stream",
     "text": [
      "Example 90, Reward: 0.9625\n"
     ]
    },
    {
     "name": "stderr",
     "output_type": "stream",
     "text": [
      " 94%|█████████▍| 94/100 [02:33<00:08,  1.36s/it]/home/Genai/project/.venv/lib/python3.10/site-packages/trl/trainer/ppo_trainer.py:1279: UserWarning: KL divergence is starting to become negative: -1.84 - this might be a precursor for failed training. sometimes this happens because the generation kwargs are not correctly set. Please make sure that the generation kwargs are set correctly, or review your training hyperparameters.\n",
      "  warnings.warn(\n",
      " 99%|█████████▉| 99/100 [02:43<00:01,  1.97s/it]/home/Genai/project/.venv/lib/python3.10/site-packages/trl/trainer/ppo_trainer.py:1279: UserWarning: KL divergence is starting to become negative: -13.45 - this might be a precursor for failed training. sometimes this happens because the generation kwargs are not correctly set. Please make sure that the generation kwargs are set correctly, or review your training hyperparameters.\n",
      "  warnings.warn(\n",
      "100%|██████████| 100/100 [02:44<00:00,  1.65s/it]\n"
     ]
    },
    {
     "name": "stdout",
     "output_type": "stream",
     "text": [
      "Epoch 4 complete - Avg reward: 0.8199\n",
      "Training complete - 391/400 examples processed successfully\n",
      "Average reward: 0.7985\n"
     ]
    },
    {
     "data": {
      "text/plain": [
       "('ppo_t5_small/tokenizer_config.json',\n",
       " 'ppo_t5_small/special_tokens_map.json',\n",
       " 'ppo_t5_small/spiece.model',\n",
       " 'ppo_t5_small/added_tokens.json')"
      ]
     },
     "execution_count": 30,
     "metadata": {},
     "output_type": "execute_result"
    }
   ],
   "source": [
    "# 2.2 Set Up and Train RL Loop with trl library\n",
    "from trl import PPOConfig, AutoModelForSeq2SeqLMWithValueHead, PPOTrainer\n",
    "from torch.utils.data import Dataset\n",
    "import re\n",
    "import torch\n",
    "from tqdm import tqdm\n",
    "import gc\n",
    "import math\n",
    "\n",
    "# Ensure GPU is available and memory cleanup\n",
    "device = torch.device(\"cuda\" if torch.cuda.is_available() else \"cpu\")\n",
    "torch.cuda.empty_cache()\n",
    "gc.collect()\n",
    "\n",
    "# Create a model with value head for PPO\n",
    "model_with_value_head = AutoModelForSeq2SeqLMWithValueHead.from_pretrained(\"t5-small\")\n",
    "model_with_value_head.to(device)\n",
    "\n",
    "# PPO configuration optimized for 6GB VRAM with KL stability improvements\n",
    "ppo_config = PPOConfig(\n",
    "    model_name=\"t5-small\",\n",
    "    learning_rate=5e-6,  # Reduced learning rate for stability\n",
    "    batch_size=1,\n",
    "    mini_batch_size=1,\n",
    "    ppo_epochs=4,\n",
    "    gradient_accumulation_steps=1,\n",
    "    kl_penalty=\"kl\",  # Add KL penalty to address negative KL\n",
    "    init_kl_coef=0.2,  # KL coefficient for stability\n",
    "    adap_kl_ctrl=True  # Adaptive KL control\n",
    ")\n",
    "\n",
    "def get_reward(text, target_sentiment):\n",
    "    # Make sure text isn't empty\n",
    "    if not text or len(text.strip()) == 0:\n",
    "        print(\"Empty response detected, assigning zero reward\")\n",
    "        return 0.0\n",
    "        \n",
    "    try:\n",
    "        labels, probabilities = classifier.predict(text, k=2)\n",
    "        label_prob_dict = dict(zip(labels, probabilities))\n",
    "        target_label = '__label__' + target_sentiment\n",
    "        reward = label_prob_dict.get(target_label, 0.0)\n",
    "        \n",
    "        # Thorough reward sanitization\n",
    "        if not isinstance(reward, float) or math.isnan(reward) or math.isinf(reward) or reward < 0:\n",
    "            print(f\"Invalid reward ({reward}) for response: {text[:50]}...\")\n",
    "            return 0.0\n",
    "            \n",
    "        return reward\n",
    "    except Exception as e:\n",
    "        print(f\"Error in reward calculation: {str(e)}, text: {text[:50]}...\")\n",
    "        return 0.0\n",
    "\n",
    "def create_prompts(sentiment, num_prompts):\n",
    "    examples_df = seed_df[seed_df['sentiment'] == sentiment]\n",
    "    prompts = []\n",
    "    for _ in range(num_prompts):\n",
    "        examples = examples_df.sample(2)\n",
    "        prompt = f\"Generate a {sentiment} sentiment text in Roman Urdu.\\n\\n\"\n",
    "        for idx, row in examples.iterrows():\n",
    "            prompt += f\"Example: {row['review']}\\n\\n\"\n",
    "        prompt += \"New text:\"\n",
    "        prompts.append(prompt)\n",
    "    return prompts\n",
    "\n",
    "# Create dataset with the required field names for PPOTrainer\n",
    "class PPODataset(Dataset):\n",
    "    def __init__(self, input_ids, attention_mask, prompts, sentiments):\n",
    "        self.input_ids = input_ids\n",
    "        self.attention_mask = attention_mask\n",
    "        self.prompts = prompts\n",
    "        self.sentiments = sentiments\n",
    "        \n",
    "    def __len__(self):\n",
    "        return len(self.prompts)\n",
    "    \n",
    "    def __getitem__(self, idx):\n",
    "        return {\n",
    "            \"input_ids\": self.input_ids[idx],\n",
    "            \"attention_mask\": self.attention_mask[idx], \n",
    "            \"prompt\": self.prompts[idx],\n",
    "            \"sentiment\": self.sentiments[idx]\n",
    "        }\n",
    "\n",
    "# Prepare prompts and targets\n",
    "num_prompts_per_sentiment = 50\n",
    "neg_prompts = create_prompts('neg', num_prompts_per_sentiment)\n",
    "pos_prompts = create_prompts('pos', num_prompts_per_sentiment)\n",
    "all_prompts = neg_prompts + pos_prompts\n",
    "target_sentiments = ['neg'] * num_prompts_per_sentiment + ['pos'] * num_prompts_per_sentiment\n",
    "\n",
    "# Tokenize prompts\n",
    "tokenized_prompts = tokenizer(all_prompts, padding=True, truncation=True, return_tensors=\"pt\")\n",
    "dataset = PPODataset(\n",
    "    tokenized_prompts['input_ids'], \n",
    "    tokenized_prompts['attention_mask'],\n",
    "    all_prompts,\n",
    "    target_sentiments\n",
    ")\n",
    "\n",
    "# Create the PPO trainer\n",
    "trainer = PPOTrainer(\n",
    "    config=ppo_config,\n",
    "    model=model_with_value_head,\n",
    "    tokenizer=tokenizer\n",
    ")\n",
    "\n",
    "# Track successful examples for debugging\n",
    "successful_examples = 0\n",
    "total_reward = 0.0\n",
    "\n",
    "# PPO RL Loop\n",
    "for epoch in range(4):\n",
    "    print(f\"Epoch {epoch + 1}/4\")\n",
    "    epoch_reward = 0.0\n",
    "    epoch_examples = 0\n",
    "    \n",
    "    for idx in tqdm(range(len(dataset))):\n",
    "        try:\n",
    "            example = dataset[idx]\n",
    "            query_tensor = example[\"input_ids\"].unsqueeze(0).to(device)\n",
    "            attention_mask = example[\"attention_mask\"].unsqueeze(0).to(device)\n",
    "\n",
    "            # Generate response with more conservative parameters\n",
    "            with torch.no_grad():\n",
    "                response_tensor = model_with_value_head.generate(\n",
    "                    input_ids=query_tensor,\n",
    "                    attention_mask=attention_mask,\n",
    "                    max_length=100,\n",
    "                    min_length=10,  # Ensure some minimal output\n",
    "                    do_sample=True,\n",
    "                    top_k=50,\n",
    "                    top_p=0.95,\n",
    "                    temperature=0.9,  # Slightly higher for more exploration\n",
    "                    no_repeat_ngram_size=2  # Reduce repetition\n",
    "                )\n",
    "\n",
    "            decoded_response = tokenizer.decode(response_tensor[0], skip_special_tokens=True)\n",
    "            sentiment = example[\"sentiment\"]\n",
    "            reward = get_reward(decoded_response, sentiment)\n",
    "            \n",
    "            # Skip very low rewards - they don't provide good training signal\n",
    "            if reward < 0.05:\n",
    "                print(f\"Skipping example {idx} with very low reward: {reward:.4f}\")\n",
    "                continue\n",
    "                \n",
    "            rewards_tensor = torch.tensor([reward], device=device)\n",
    "\n",
    "            # Pass lists of 1D tensors as required by PPOTrainer\n",
    "            stats = trainer.step([query_tensor[0]], [response_tensor[0]], [rewards_tensor])\n",
    "            \n",
    "            successful_examples += 1\n",
    "            total_reward += reward\n",
    "            epoch_reward += reward\n",
    "            epoch_examples += 1\n",
    "\n",
    "            if idx % 10 == 0:\n",
    "                print(f\"Example {idx}, Reward: {reward:.4f}\")\n",
    "                torch.cuda.empty_cache()\n",
    "\n",
    "        except Exception as e:\n",
    "            print(f\"Error on example {idx}: {str(e)}\")\n",
    "            torch.cuda.empty_cache()\n",
    "            continue\n",
    "    \n",
    "    # Print epoch stats\n",
    "    avg_epoch_reward = epoch_reward / max(1, epoch_examples)\n",
    "    print(f\"Epoch {epoch+1} complete - Avg reward: {avg_epoch_reward:.4f}\")\n",
    "    \n",
    "    # More aggressive cleanup between epochs\n",
    "    gc.collect()\n",
    "    torch.cuda.empty_cache()\n",
    "\n",
    "# Final stats\n",
    "avg_reward = total_reward / max(1, successful_examples)\n",
    "print(f\"Training complete - {successful_examples}/{len(dataset)*4} examples processed successfully\")\n",
    "print(f\"Average reward: {avg_reward:.4f}\")\n",
    "\n",
    "# Save the fine-tuned model\n",
    "model_with_value_head.pretrained_model.save_pretrained(\"Models/ppo_t5_small\")\n",
    "tokenizer.save_pretrained(\"Models/ppo_t5_small\")"
   ]
  },
  {
   "cell_type": "code",
   "execution_count": null,
   "metadata": {},
   "outputs": [
    {
     "name": "stderr",
     "output_type": "stream",
     "text": [
      "Special tokens have been added in the vocabulary, make sure the associated word embeddings are fine-tuned or trained.\n"
     ]
    },
    {
     "name": "stdout",
     "output_type": "stream",
     "text": [
      "Generated 200 synthetic samples. Augmented dataset size: 300\n"
     ]
    }
   ],
   "source": [
    "# 2.3 Generate Synthetic Data with PPO-Trained Model\n",
    "import pandas as pd\n",
    "import torch\n",
    "from transformers import T5ForConditionalGeneration, T5Tokenizer\n",
    "\n",
    "# Load the PPO-trained model and tokenizer\n",
    "model = T5ForConditionalGeneration.from_pretrained(\"Models/ppo_t5_small\").to(\"cuda\")\n",
    "tokenizer = T5Tokenizer.from_pretrained(\"Models/ppo_t5_small\")\n",
    "\n",
    "def generate_synthetic_text(prompt, max_length=150):\n",
    "    inputs = tokenizer(prompt, return_tensors=\"pt\", padding=True, truncation=True).to(\"cuda\")\n",
    "    outputs = model.generate(\n",
    "        input_ids=inputs[\"input_ids\"],\n",
    "        attention_mask=inputs[\"attention_mask\"],\n",
    "        max_length=max_length,\n",
    "        do_sample=True,\n",
    "        top_k=50,\n",
    "        top_p=0.95,\n",
    "        temperature=0.7,\n",
    "        num_return_sequences=1\n",
    "    )\n",
    "    return tokenizer.decode(outputs[0], skip_special_tokens=True)\n",
    "\n",
    "def create_prompts(sentiment, num_prompts, seed_df):\n",
    "    examples_df = seed_df[seed_df['sentiment'] == sentiment]\n",
    "    prompts = []\n",
    "    for _ in range(num_prompts):\n",
    "        examples = examples_df.sample(2)\n",
    "        prompt = f\"Generate a {sentiment} sentiment text in Roman Urdu.\\n\\n\"\n",
    "        for idx, row in examples.iterrows():\n",
    "            prompt += f\"Example: {row['review']}\\n\\n\"\n",
    "        prompt += \"New text:\"\n",
    "        prompts.append(prompt)\n",
    "    return prompts\n",
    "\n",
    "# Generate synthetic data\n",
    "num_synthetic_per_sentiment = 100  # Adjust based on dataset needs\n",
    "neg_prompts = create_prompts('neg', num_synthetic_per_sentiment, seed_df)\n",
    "pos_prompts = create_prompts('pos', num_synthetic_per_sentiment, seed_df)\n",
    "\n",
    "synthetic_texts = []\n",
    "synthetic_labels = []\n",
    "\n",
    "# Generate negative sentiment texts\n",
    "for prompt in neg_prompts:\n",
    "    text = generate_synthetic_text(prompt)\n",
    "    synthetic_texts.append(text)\n",
    "    synthetic_labels.append('neg')\n",
    "\n",
    "# Generate positive sentiment texts\n",
    "for prompt in pos_prompts:\n",
    "    text = generate_synthetic_text(prompt)\n",
    "    synthetic_texts.append(text)\n",
    "    synthetic_labels.append('pos')\n",
    "\n",
    "# Create synthetic DataFrame\n",
    "synthetic_df = pd.DataFrame({\n",
    "    'review': synthetic_texts,\n",
    "    'sentiment': synthetic_labels\n",
    "})\n",
    "\n",
    "# Combine with seed data (optional, depending on your strategy)\n",
    "augmented_df = pd.concat([seed_df, synthetic_df], ignore_index=True)\n",
    "\n",
    "# Save augmented dataset\n",
    "augmented_df.to_csv('Data/augmented_dataset.csv', index=False)\n",
    "print(f\"Generated {len(synthetic_df)} synthetic samples. Augmented dataset size: {len(augmented_df)}\")"
   ]
  },
  {
   "cell_type": "code",
   "execution_count": null,
   "metadata": {},
   "outputs": [
    {
     "name": "stdout",
     "output_type": "stream",
     "text": [
      "Loading augmented dataset...\n",
      "Filtering synthetic data based on classifier confidence...\n"
     ]
    },
    {
     "name": "stderr",
     "output_type": "stream",
     "text": [
      "200it [00:00, 569.44it/s]\n"
     ]
    },
    {
     "name": "stdout",
     "output_type": "stream",
     "text": [
      "Kept 164 out of 200 synthetic examples\n"
     ]
    },
    {
     "data": {
      "image/png": "[encoded data removed]",
      "text/plain": [
       "<Figure size 1000x600 with 1 Axes>"
      ]
     },
     "metadata": {},
     "output_type": "display_data"
    },
    {
     "name": "stdout",
     "output_type": "stream",
     "text": [
      "Original augmented dataset size: 300\n",
      "Filtered augmented dataset size: 264\n"
     ]
    }
   ],
   "source": [
    "# 2.4 Filter Synthetic Data by Quality\n",
    "import fasttext\n",
    "import pandas as pd\n",
    "import numpy as np\n",
    "from tqdm import tqdm\n",
    "import matplotlib.pyplot as plt\n",
    "\n",
    "print(\"Loading augmented dataset...\")\n",
    "augmented_df = pd.read_csv('Data/augmented_dataset.csv')\n",
    "\n",
    "# Separate seed data from synthetic data\n",
    "seed_data = augmented_df.iloc[:len(seed_df)]\n",
    "synthetic_data = augmented_df.iloc[len(seed_df):]\n",
    "\n",
    "# Filter synthetic data based on classifier confidence\n",
    "print(\"Filtering synthetic data based on classifier confidence...\")\n",
    "high_quality_indices = []\n",
    "confidence_scores = []\n",
    "\n",
    "for idx, row in tqdm(synthetic_data.iterrows()):\n",
    "    target_label = '__label__' + row['sentiment']\n",
    "    try:\n",
    "        labels, probabilities = classifier.predict(row['review'], k=2)\n",
    "        label_prob_dict = dict(zip(labels, probabilities))\n",
    "        confidence = label_prob_dict.get(target_label, 0.0)\n",
    "        confidence_scores.append(confidence)\n",
    "        \n",
    "        # Keep only high confidence examples (0.75 threshold)\n",
    "        if confidence >= 0.75:\n",
    "            high_quality_indices.append(idx)\n",
    "    except Exception as e:\n",
    "        continue\n",
    "\n",
    "print(f\"Kept {len(high_quality_indices)} out of {len(synthetic_data)} synthetic examples\")\n",
    "\n",
    "# Create filtered augmented dataset\n",
    "filtered_synthetic_data = synthetic_data.loc[high_quality_indices]\n",
    "filtered_augmented_df = pd.concat([seed_data, filtered_synthetic_data], ignore_index=True)\n",
    "filtered_augmented_df.to_csv('Data/filtered_augmented_dataset.csv', index=False)\n",
    "\n",
    "# Visualize confidence distribution\n",
    "plt.figure(figsize=(10, 6))\n",
    "plt.hist(confidence_scores, bins=20, alpha=0.7)\n",
    "plt.axvline(x=0.75, color='r', linestyle='--', label='Threshold (0.75)')\n",
    "plt.xlabel('Classifier Confidence')\n",
    "plt.ylabel('Count')\n",
    "plt.title('Distribution of Sentiment Classifier Confidence on Synthetic Data')\n",
    "plt.legend()\n",
    "plt.savefig('Images/synthetic_data_quality.png')\n",
    "plt.show()\n",
    "\n",
    "print(f\"Original augmented dataset size: {len(augmented_df)}\")\n",
    "print(f\"Filtered augmented dataset size: {len(filtered_augmented_df)}\")"
   ]
  },
  {
   "cell_type": "code",
   "execution_count": null,
   "metadata": {},
   "outputs": [
    {
     "name": "stderr",
     "output_type": "stream",
     "text": [
      "2025-05-11 14:59:46.342573: E external/local_xla/xla/stream_executor/cuda/cuda_fft.cc:485] Unable to register cuFFT factory: Attempting to register factory for plugin cuFFT when one has already been registered\n",
      "2025-05-11 14:59:47.278377: E external/local_xla/xla/stream_executor/cuda/cuda_dnn.cc:8454] Unable to register cuDNN factory: Attempting to register factory for plugin cuDNN when one has already been registered\n",
      "2025-05-11 14:59:47.610079: E external/local_xla/xla/stream_executor/cuda/cuda_blas.cc:1452] Unable to register cuBLAS factory: Attempting to register factory for plugin cuBLAS when one has already been registered\n",
      "2025-05-11 14:59:49.813875: I tensorflow/core/platform/cpu_feature_guard.cc:210] This TensorFlow binary is optimized to use available CPU instructions in performance-critical operations.\n",
      "To enable the following instructions: AVX2 FMA, in other operations, rebuild TensorFlow with the appropriate compiler flags.\n",
      "2025-05-11 14:59:58.636032: W tensorflow/compiler/tf2tensorrt/utils/py_utils.cc:38] TF-TRT Warning: Could not find TensorRT\n",
      "/home/Genai/project/.venv/lib/python3.10/site-packages/huggingface_hub/file_download.py:1142: FutureWarning: `resume_download` is deprecated and will be removed in version 1.0.0. Downloads always resume when possible. If you want to force a new download, use `force_download=True`.\n",
      "  warnings.warn(\n"
     ]
    },
    {
     "data": {
      "application/vnd.jupyter.widget-view+json": {
       "model_id": "4adf6de222c14d77b527dddc1a25d186",
       "version_major": 2,
       "version_minor": 0
      },
      "text/plain": [
       "tokenizer_config.json:   0%|          | 0.00/49.0 [00:00<?, ?B/s]"
      ]
     },
     "metadata": {},
     "output_type": "display_data"
    },
    {
     "data": {
      "application/vnd.jupyter.widget-view+json": {
       "model_id": "59cbb4b4e98e4c1494e115294da98001",
       "version_major": 2,
       "version_minor": 0
      },
      "text/plain": [
       "vocab.txt:   0%|          | 0.00/996k [00:00<?, ?B/s]"
      ]
     },
     "metadata": {},
     "output_type": "display_data"
    },
    {
     "data": {
      "application/vnd.jupyter.widget-view+json": {
       "model_id": "59ca32fdda6449e0ab0941ea84f132d2",
       "version_major": 2,
       "version_minor": 0
      },
      "text/plain": [
       "tokenizer.json:   0%|          | 0.00/1.96M [00:00<?, ?B/s]"
      ]
     },
     "metadata": {},
     "output_type": "display_data"
    },
    {
     "data": {
      "application/vnd.jupyter.widget-view+json": {
       "model_id": "fc91bac153fc4b59b08d052c4296ba8e",
       "version_major": 2,
       "version_minor": 0
      },
      "text/plain": [
       "config.json:   0%|          | 0.00/625 [00:00<?, ?B/s]"
      ]
     },
     "metadata": {},
     "output_type": "display_data"
    },
    {
     "data": {
      "application/vnd.jupyter.widget-view+json": {
       "model_id": "e488aa1a98e84d4f9fc08710cb62cd8c",
       "version_major": 2,
       "version_minor": 0
      },
      "text/plain": [
       "model.safetensors:   0%|          | 0.00/714M [00:00<?, ?B/s]"
      ]
     },
     "metadata": {},
     "output_type": "display_data"
    },
    {
     "name": "stderr",
     "output_type": "stream",
     "text": [
      "Some weights of BertForSequenceClassification were not initialized from the model checkpoint at bert-base-multilingual-cased and are newly initialized: ['classifier.bias', 'classifier.weight']\n",
      "You should probably TRAIN this model on a down-stream task to be able to use it for predictions and inference.\n"
     ]
    },
    {
     "data": {
      "application/vnd.jupyter.widget-view+json": {
       "model_id": "5d040ab925624acda3825cda3b907395",
       "version_major": 2,
       "version_minor": 0
      },
      "text/plain": [
       "Map:   0%|          | 0/240 [00:00<?, ? examples/s]"
      ]
     },
     "metadata": {},
     "output_type": "display_data"
    },
    {
     "data": {
      "application/vnd.jupyter.widget-view+json": {
       "model_id": "e723a9d4ee644a01800ef7318961a9c2",
       "version_major": 2,
       "version_minor": 0
      },
      "text/plain": [
       "Map:   0%|          | 0/60 [00:00<?, ? examples/s]"
      ]
     },
     "metadata": {},
     "output_type": "display_data"
    },
    {
     "name": "stderr",
     "output_type": "stream",
     "text": [
      "/home/Genai/project/.venv/lib/python3.10/site-packages/accelerate/accelerator.py:457: FutureWarning: Passing the following arguments to `Accelerator` is deprecated and will be removed in version 1.0 of Accelerate: dict_keys(['dispatch_batches', 'split_batches', 'even_batches', 'use_seedable_sampler']). Please pass an `accelerate.DataLoaderConfiguration` instead: \n",
      "dataloader_config = DataLoaderConfiguration(dispatch_batches=None, split_batches=False, even_batches=True, use_seedable_sampler=True)\n",
      "  warnings.warn(\n",
      "/home/Genai/project/.venv/lib/python3.10/site-packages/accelerate/accelerator.py:494: FutureWarning: `torch.cuda.amp.GradScaler(args...)` is deprecated. Please use `torch.amp.GradScaler('cuda', args...)` instead.\n",
      "  self.scaler = torch.cuda.amp.GradScaler(**kwargs)\n"
     ]
    },
    {
     "data": {
      "text/html": [
       "\n",
       "    <div>\n",
       "      \n",
       "      <progress value='90' max='90' style='width:300px; height:20px; vertical-align: middle;'></progress>\n",
       "      [90/90 02:09, Epoch 3/3]\n",
       "    </div>\n",
       "    <table border=\"1\" class=\"dataframe\">\n",
       "  <thead>\n",
       " <tr style=\"text-align: left;\">\n",
       "      <th>Epoch</th>\n",
       "      <th>Training Loss</th>\n",
       "      <th>Validation Loss</th>\n",
       "      <th>Accuracy</th>\n",
       "      <th>F1</th>\n",
       "    </tr>\n",
       "  </thead>\n",
       "  <tbody>\n",
       "    <tr>\n",
       "      <td>1</td>\n",
       "      <td>0.667800</td>\n",
       "      <td>0.664762</td>\n",
       "      <td>0.566667</td>\n",
       "      <td>0.474191</td>\n",
       "    </tr>\n",
       "    <tr>\n",
       "      <td>2</td>\n",
       "      <td>0.589400</td>\n",
       "      <td>0.621488</td>\n",
       "      <td>0.616667</td>\n",
       "      <td>0.587704</td>\n",
       "    </tr>\n",
       "    <tr>\n",
       "      <td>3</td>\n",
       "      <td>0.383300</td>\n",
       "      <td>0.416851</td>\n",
       "      <td>0.850000</td>\n",
       "      <td>0.848531</td>\n",
       "    </tr>\n",
       "  </tbody>\n",
       "</table><p>"
      ],
      "text/plain": [
       "<IPython.core.display.HTML object>"
      ]
     },
     "metadata": {},
     "output_type": "display_data"
    },
    {
     "data": {
      "text/html": [],
      "text/plain": [
       "<IPython.core.display.HTML object>"
      ]
     },
     "metadata": {},
     "output_type": "display_data"
    },
    {
     "name": "stdout",
     "output_type": "stream",
     "text": [
      "Evaluation results: {'eval_loss': 0.4168510437011719, 'eval_accuracy': 0.85, 'eval_f1': 0.8485314685314685, 'eval_runtime': 0.5904, 'eval_samples_per_second': 101.634, 'eval_steps_per_second': 13.551, 'epoch': 3.0}\n",
      "Test Accuracy: 0.8500\n",
      "Test F1 Score: 0.8485\n"
     ]
    }
   ],
   "source": [
    "# 3.1 Fine-Tune and Evaluate BERT\n",
    "import pandas as pd\n",
    "import torch\n",
    "from transformers import BertTokenizer, BertForSequenceClassification, Trainer, TrainingArguments\n",
    "from datasets import Dataset\n",
    "from sklearn.model_selection import train_test_split\n",
    "from sklearn.metrics import accuracy_score, f1_score\n",
    "import numpy as np\n",
    "\n",
    "# Load augmented dataset\n",
    "augmented_df = pd.read_csv('Data/augmented_dataset.csv')\n",
    "\n",
    "# Map sentiments to labels (pos: 1, neg: 0)\n",
    "augmented_df['label'] = augmented_df['sentiment'].map({'pos': 1, 'neg': 0})\n",
    "\n",
    "# Split into train and test sets\n",
    "train_df, test_df = train_test_split(augmented_df, test_size=0.2, stratify=augmented_df['label'], random_state=42)\n",
    "\n",
    "# Convert to Hugging Face Dataset\n",
    "train_dataset = Dataset.from_pandas(train_df[['review', 'label']])\n",
    "test_dataset = Dataset.from_pandas(test_df[['review', 'label']])\n",
    "\n",
    "# Load tokenizer and model\n",
    "tokenizer = BertTokenizer.from_pretrained('bert-base-multilingual-cased')\n",
    "model = BertForSequenceClassification.from_pretrained('bert-base-multilingual-cased', num_labels=2).to(\"cuda\")\n",
    "\n",
    "# Tokenize datasets\n",
    "def tokenize_function(examples):\n",
    "    return tokenizer(examples['review'], padding='max_length', truncation=True, max_length=128)\n",
    "\n",
    "train_dataset = train_dataset.map(tokenize_function, batched=True)\n",
    "test_dataset = test_dataset.map(tokenize_function, batched=True)\n",
    "\n",
    "# Set format for PyTorch\n",
    "train_dataset.set_format('torch', columns=['input_ids', 'attention_mask', 'label'])\n",
    "test_dataset.set_format('torch', columns=['input_ids', 'attention_mask', 'label'])\n",
    "\n",
    "# Define compute_metrics function\n",
    "def compute_metrics(pred):\n",
    "    labels = pred.label_ids\n",
    "    preds = pred.predictions.argmax(-1)\n",
    "    acc = accuracy_score(labels, preds)\n",
    "    f1 = f1_score(labels, preds, average='weighted')\n",
    "    return {'accuracy': acc, 'f1': f1}\n",
    "\n",
    "# Training arguments\n",
    "training_args = TrainingArguments(\n",
    "    output_dir='./Models/bert_finetuned',\n",
    "    num_train_epochs=3,\n",
    "    per_device_train_batch_size=8,  # Optimized for 6GB VRAM\n",
    "    per_device_eval_batch_size=8,\n",
    "    warmup_steps=100,\n",
    "    weight_decay=0.01,\n",
    "    logging_dir='./Models/logs',\n",
    "    logging_steps=10,\n",
    "    evaluation_strategy=\"epoch\",\n",
    "    save_strategy=\"epoch\",\n",
    "    load_best_model_at_end=True,\n",
    "    fp16=True  # Mixed precision for VRAM efficiency\n",
    ")\n",
    "\n",
    "# Initialize Trainer\n",
    "trainer = Trainer(\n",
    "    model=model,\n",
    "    args=training_args,\n",
    "    train_dataset=train_dataset,\n",
    "    eval_dataset=test_dataset,\n",
    "    compute_metrics=compute_metrics\n",
    ")\n",
    "\n",
    "# Train the model\n",
    "trainer.train()\n",
    "\n",
    "# Evaluate on test set\n",
    "eval_results = trainer.evaluate()\n",
    "print(f\"Evaluation results: {eval_results}\")\n",
    "\n",
    "# Save the fine-tuned model\n",
    "model.save_pretrained('Models/bert_finetuned')\n",
    "tokenizer.save_pretrained('Models/bert_finetuned')\n",
    "\n",
    "# Predict on test set for detailed metrics\n",
    "predictions = trainer.predict(test_dataset)\n",
    "preds = np.argmax(predictions.predictions, axis=1)\n",
    "labels = predictions.label_ids\n",
    "accuracy = accuracy_score(labels, preds)\n",
    "f1 = f1_score(labels, preds, average='weighted')\n",
    "print(f\"Test Accuracy: {accuracy:.4f}\")\n",
    "print(f\"Test F1 Score: {f1:.4f}\")"
   ]
  },
  {
   "cell_type": "code",
   "execution_count": null,
   "metadata": {},
   "outputs": [
    {
     "name": "stderr",
     "output_type": "stream",
     "text": [
      "/home/Genai/project/.venv/lib/python3.10/site-packages/huggingface_hub/file_download.py:1142: FutureWarning: `resume_download` is deprecated and will be removed in version 1.0.0. Downloads always resume when possible. If you want to force a new download, use `force_download=True`.\n",
      "  warnings.warn(\n",
      "Some weights of XLMRobertaForSequenceClassification were not initialized from the model checkpoint at xlm-roberta-base and are newly initialized: ['classifier.dense.bias', 'classifier.dense.weight', 'classifier.out_proj.bias', 'classifier.out_proj.weight']\n",
      "You should probably TRAIN this model on a down-stream task to be able to use it for predictions and inference.\n"
     ]
    },
    {
     "data": {
      "application/vnd.jupyter.widget-view+json": {
       "model_id": "80504aa3aa3943cdb25d5b954a29ef6d",
       "version_major": 2,
       "version_minor": 0
      },
      "text/plain": [
       "Map:   0%|          | 0/240 [00:00<?, ? examples/s]"
      ]
     },
     "metadata": {},
     "output_type": "display_data"
    },
    {
     "data": {
      "application/vnd.jupyter.widget-view+json": {
       "model_id": "bb92669806ba4567a90b33a787fcd0d2",
       "version_major": 2,
       "version_minor": 0
      },
      "text/plain": [
       "Map:   0%|          | 0/60 [00:00<?, ? examples/s]"
      ]
     },
     "metadata": {},
     "output_type": "display_data"
    },
    {
     "name": "stderr",
     "output_type": "stream",
     "text": [
      "/home/Genai/project/.venv/lib/python3.10/site-packages/accelerate/accelerator.py:457: FutureWarning: Passing the following arguments to `Accelerator` is deprecated and will be removed in version 1.0 of Accelerate: dict_keys(['dispatch_batches', 'split_batches', 'even_batches', 'use_seedable_sampler']). Please pass an `accelerate.DataLoaderConfiguration` instead: \n",
      "dataloader_config = DataLoaderConfiguration(dispatch_batches=None, split_batches=False, even_batches=True, use_seedable_sampler=True)\n",
      "  warnings.warn(\n",
      "/home/Genai/project/.venv/lib/python3.10/site-packages/accelerate/accelerator.py:494: FutureWarning: `torch.cuda.amp.GradScaler(args...)` is deprecated. Please use `torch.amp.GradScaler('cuda', args...)` instead.\n",
      "  self.scaler = torch.cuda.amp.GradScaler(**kwargs)\n"
     ]
    },
    {
     "name": "stdout",
     "output_type": "stream",
     "text": [
      "Stage 1: Training with frozen layers...\n"
     ]
    },
    {
     "data": {
      "text/html": [
       "\n",
       "    <div>\n",
       "      \n",
       "      <progress value='90' max='90' style='width:300px; height:20px; vertical-align: middle;'></progress>\n",
       "      [90/90 01:46, Epoch 3/3]\n",
       "    </div>\n",
       "    <table border=\"1\" class=\"dataframe\">\n",
       "  <thead>\n",
       " <tr style=\"text-align: left;\">\n",
       "      <th>Epoch</th>\n",
       "      <th>Training Loss</th>\n",
       "      <th>Validation Loss</th>\n",
       "      <th>Accuracy</th>\n",
       "      <th>F1</th>\n",
       "    </tr>\n",
       "  </thead>\n",
       "  <tbody>\n",
       "    <tr>\n",
       "      <td>1</td>\n",
       "      <td>0.692500</td>\n",
       "      <td>0.691414</td>\n",
       "      <td>0.516667</td>\n",
       "      <td>0.352015</td>\n",
       "    </tr>\n",
       "    <tr>\n",
       "      <td>2</td>\n",
       "      <td>0.694100</td>\n",
       "      <td>0.687069</td>\n",
       "      <td>0.516667</td>\n",
       "      <td>0.352015</td>\n",
       "    </tr>\n",
       "    <tr>\n",
       "      <td>3</td>\n",
       "      <td>0.695900</td>\n",
       "      <td>0.650102</td>\n",
       "      <td>0.700000</td>\n",
       "      <td>0.679904</td>\n",
       "    </tr>\n",
       "  </tbody>\n",
       "</table><p>"
      ],
      "text/plain": [
       "<IPython.core.display.HTML object>"
      ]
     },
     "metadata": {},
     "output_type": "display_data"
    },
    {
     "name": "stderr",
     "output_type": "stream",
     "text": [
      "/home/Genai/project/.venv/lib/python3.10/site-packages/accelerate/accelerator.py:457: FutureWarning: Passing the following arguments to `Accelerator` is deprecated and will be removed in version 1.0 of Accelerate: dict_keys(['dispatch_batches', 'split_batches', 'even_batches', 'use_seedable_sampler']). Please pass an `accelerate.DataLoaderConfiguration` instead: \n",
      "dataloader_config = DataLoaderConfiguration(dispatch_batches=None, split_batches=False, even_batches=True, use_seedable_sampler=True)\n",
      "  warnings.warn(\n",
      "/home/Genai/project/.venv/lib/python3.10/site-packages/accelerate/accelerator.py:494: FutureWarning: `torch.cuda.amp.GradScaler(args...)` is deprecated. Please use `torch.amp.GradScaler('cuda', args...)` instead.\n",
      "  self.scaler = torch.cuda.amp.GradScaler(**kwargs)\n"
     ]
    },
    {
     "name": "stdout",
     "output_type": "stream",
     "text": [
      "Stage 2: Fine-tuning all layers...\n"
     ]
    },
    {
     "data": {
      "text/html": [
       "\n",
       "    <div>\n",
       "      \n",
       "      <progress value='150' max='150' style='width:300px; height:20px; vertical-align: middle;'></progress>\n",
       "      [150/150 11:24, Epoch 5/5]\n",
       "    </div>\n",
       "    <table border=\"1\" class=\"dataframe\">\n",
       "  <thead>\n",
       " <tr style=\"text-align: left;\">\n",
       "      <th>Epoch</th>\n",
       "      <th>Training Loss</th>\n",
       "      <th>Validation Loss</th>\n",
       "      <th>Accuracy</th>\n",
       "      <th>F1</th>\n",
       "    </tr>\n",
       "  </thead>\n",
       "  <tbody>\n",
       "    <tr>\n",
       "      <td>1</td>\n",
       "      <td>0.667600</td>\n",
       "      <td>0.654142</td>\n",
       "      <td>0.733333</td>\n",
       "      <td>0.720172</td>\n",
       "    </tr>\n",
       "    <tr>\n",
       "      <td>2</td>\n",
       "      <td>0.656500</td>\n",
       "      <td>0.622050</td>\n",
       "      <td>0.766667</td>\n",
       "      <td>0.766667</td>\n",
       "    </tr>\n",
       "    <tr>\n",
       "      <td>3</td>\n",
       "      <td>0.650800</td>\n",
       "      <td>0.611281</td>\n",
       "      <td>0.750000</td>\n",
       "      <td>0.739580</td>\n",
       "    </tr>\n",
       "    <tr>\n",
       "      <td>4</td>\n",
       "      <td>0.640700</td>\n",
       "      <td>0.576811</td>\n",
       "      <td>0.816667</td>\n",
       "      <td>0.815897</td>\n",
       "    </tr>\n",
       "    <tr>\n",
       "      <td>5</td>\n",
       "      <td>0.590200</td>\n",
       "      <td>0.574209</td>\n",
       "      <td>0.833333</td>\n",
       "      <td>0.832211</td>\n",
       "    </tr>\n",
       "  </tbody>\n",
       "</table><p>"
      ],
      "text/plain": [
       "<IPython.core.display.HTML object>"
      ]
     },
     "metadata": {},
     "output_type": "display_data"
    },
    {
     "data": {
      "text/html": [],
      "text/plain": [
       "<IPython.core.display.HTML object>"
      ]
     },
     "metadata": {},
     "output_type": "display_data"
    },
    {
     "name": "stdout",
     "output_type": "stream",
     "text": [
      "Evaluation results: {'eval_loss': 0.5742085576057434, 'eval_accuracy': 0.8333333333333334, 'eval_f1': 0.8322109988776655, 'eval_runtime': -0.843, 'eval_samples_per_second': -71.171, 'eval_steps_per_second': -9.489, 'epoch': 5.0}\n",
      "Test Accuracy: 0.8333\n",
      "Test F1 Score: 0.8322\n"
     ]
    }
   ],
   "source": [
    "# 3.1 Fine-Tune and Evaluate XLM-RoBERTa with Advanced Techniques\n",
    "import pandas as pd\n",
    "import torch\n",
    "import numpy as np\n",
    "from transformers import AutoTokenizer, AutoModelForSequenceClassification, Trainer, TrainingArguments, EarlyStoppingCallback\n",
    "from datasets import Dataset\n",
    "from sklearn.model_selection import train_test_split\n",
    "from sklearn.metrics import accuracy_score, f1_score, confusion_matrix\n",
    "import matplotlib.pyplot as plt\n",
    "import seaborn as sns\n",
    "\n",
    "# Load filtered augmented dataset\n",
    "filtered_augmented_df = pd.read_csv('Data/augmented_dataset.csv')\n",
    "filtered_augmented_df['label'] = filtered_augmented_df['sentiment'].map({'pos': 1, 'neg': 0})\n",
    "\n",
    "# Split into train and test sets\n",
    "train_df, test_df = train_test_split(filtered_augmented_df, test_size=0.2, stratify=filtered_augmented_df['label'], random_state=42)\n",
    "\n",
    "# Set device\n",
    "device = torch.device(\"cuda\" if torch.cuda.is_available() else \"cpu\")\n",
    "\n",
    "# Use XLM-RoBERTa instead of BERT for better multilingual performance\n",
    "model_name = \"xlm-roberta-base\"\n",
    "tokenizer = AutoTokenizer.from_pretrained(model_name)\n",
    "model = AutoModelForSequenceClassification.from_pretrained(model_name, num_labels=2).to(device)\n",
    "\n",
    "# Convert to Hugging Face Dataset\n",
    "train_dataset = Dataset.from_pandas(train_df[['review', 'label']])\n",
    "test_dataset = Dataset.from_pandas(test_df[['review', 'label']])\n",
    "\n",
    "# Tokenize datasets with longer max length for better coverage\n",
    "def tokenize_function(examples):\n",
    "    return tokenizer(examples['review'], padding='max_length', truncation=True, max_length=256)\n",
    "\n",
    "train_dataset = train_dataset.map(tokenize_function, batched=True)\n",
    "test_dataset = test_dataset.map(tokenize_function, batched=True)\n",
    "\n",
    "# Set format for PyTorch\n",
    "train_dataset.set_format('torch', columns=['input_ids', 'attention_mask', 'label'])\n",
    "test_dataset.set_format('torch', columns=['input_ids', 'attention_mask', 'label'])\n",
    "\n",
    "# Define compute_metrics function\n",
    "def compute_metrics(pred):\n",
    "    labels = pred.label_ids\n",
    "    preds = pred.predictions.argmax(-1)\n",
    "    acc = accuracy_score(labels, preds)\n",
    "    f1 = f1_score(labels, preds, average='weighted')\n",
    "    return {'accuracy': acc, 'f1': f1}\n",
    "\n",
    "# First freeze the embedding layer and most transformer layers\n",
    "for param in model.roberta.embeddings.parameters():\n",
    "    param.requires_grad = False\n",
    "    \n",
    "for layer in model.roberta.encoder.layer[:-2]:  # Freeze all but last 2 layers\n",
    "    for param in layer.parameters():\n",
    "        param.requires_grad = False\n",
    "\n",
    "# Stage 1 training arguments - train only top layers\n",
    "training_args_stage1 = TrainingArguments(\n",
    "    output_dir='./Models/xlm-roberta-stage1',\n",
    "    num_train_epochs=3,\n",
    "    per_device_train_batch_size=8,\n",
    "    per_device_eval_batch_size=8,\n",
    "    learning_rate=2e-5,\n",
    "    lr_scheduler_type=\"cosine\",\n",
    "    warmup_steps=100,\n",
    "    weight_decay=0.01,\n",
    "    logging_dir='./Models/logs',\n",
    "    logging_steps=10,\n",
    "    evaluation_strategy=\"epoch\",\n",
    "    save_strategy=\"epoch\",\n",
    "    load_best_model_at_end=True,\n",
    "    metric_for_best_model=\"accuracy\",\n",
    "    fp16=True\n",
    ")\n",
    "\n",
    "# Early stopping callback\n",
    "early_stopping = EarlyStoppingCallback(early_stopping_patience=2, early_stopping_threshold=0.01)\n",
    "\n",
    "# Initialize Trainer\n",
    "trainer_stage1 = Trainer(\n",
    "    model=model,\n",
    "    args=training_args_stage1,\n",
    "    train_dataset=train_dataset,\n",
    "    eval_dataset=test_dataset,\n",
    "    compute_metrics=compute_metrics,\n",
    "    callbacks=[early_stopping]\n",
    ")\n",
    "\n",
    "print(\"Stage 1: Training with frozen layers...\")\n",
    "trainer_stage1.train()\n",
    "\n",
    "# Unfreeze all layers for fine-tuning\n",
    "for param in model.parameters():\n",
    "    param.requires_grad = True\n",
    "\n",
    "# Stage 2 training arguments - fine-tune all layers with smaller learning rate\n",
    "training_args_stage2 = TrainingArguments(\n",
    "    output_dir='./Models/xlm-roberta-stage2',\n",
    "    num_train_epochs=5,\n",
    "    per_device_train_batch_size=8,\n",
    "    per_device_eval_batch_size=8,\n",
    "    learning_rate=5e-6,  # Much smaller learning rate\n",
    "    lr_scheduler_type=\"cosine\",\n",
    "    warmup_steps=50,\n",
    "    weight_decay=0.01,\n",
    "    logging_dir='./Models/logs',\n",
    "    logging_steps=10,\n",
    "    evaluation_strategy=\"epoch\",\n",
    "    save_strategy=\"epoch\",\n",
    "    load_best_model_at_end=True,\n",
    "    metric_for_best_model=\"accuracy\",\n",
    "    fp16=True\n",
    ")\n",
    "\n",
    "# Create a new trainer for stage 2\n",
    "trainer_stage2 = Trainer(\n",
    "    model=model,\n",
    "    args=training_args_stage2,\n",
    "    train_dataset=train_dataset,\n",
    "    eval_dataset=test_dataset,\n",
    "    compute_metrics=compute_metrics,\n",
    "    callbacks=[early_stopping]\n",
    ")\n",
    "\n",
    "print(\"Stage 2: Fine-tuning all layers...\")\n",
    "trainer_stage2.train()\n",
    "\n",
    "# Final evaluation\n",
    "eval_results = trainer_stage2.evaluate()\n",
    "print(f\"Evaluation results: {eval_results}\")\n",
    "\n",
    "# Save the fine-tuned model\n",
    "model.save_pretrained('Models/xlm-roberta-finetuned')\n",
    "tokenizer.save_pretrained('Models/xlm-roberta-finetuned')\n",
    "\n",
    "# Get detailed metrics on test set\n",
    "predictions = trainer_stage2.predict(test_dataset)\n",
    "preds = np.argmax(predictions.predictions, axis=1)\n",
    "labels = predictions.label_ids\n",
    "accuracy = accuracy_score(labels, preds)\n",
    "f1 = f1_score(labels, preds, average='weighted')\n",
    "print(f\"Test Accuracy: {accuracy:.4f}\")\n",
    "print(f\"Test F1 Score: {f1:.4f}\")"
   ]
  },
  {
   "cell_type": "code",
   "execution_count": null,
   "metadata": {},
   "outputs": [],
   "source": [
    "# 3.2 Model Evaluation and Comparison with Baseline\n",
    "import pandas as pd\n",
    "import numpy as np\n",
    "import torch\n",
    "from transformers import AutoTokenizer, AutoModelForSequenceClassification, Trainer\n",
    "from datasets import Dataset\n",
    "from sklearn.model_selection import train_test_split\n",
    "from sklearn.metrics import accuracy_score, f1_score, confusion_matrix\n",
    "import matplotlib.pyplot as plt\n",
    "import seaborn as sns\n",
    "\n",
    "# Create confusion matrix\n",
    "cm = confusion_matrix(labels, preds)\n",
    "plt.figure(figsize=(8, 6))\n",
    "sns.heatmap(cm, annot=True, fmt='d', cmap='Blues',\n",
    "           xticklabels=['Negative', 'Positive'],\n",
    "           yticklabels=['Negative', 'Positive'])\n",
    "plt.xlabel('Predicted')\n",
    "plt.ylabel('True')\n",
    "plt.title('Confusion Matrix')\n",
    "plt.savefig('Images/confusion_matrix.png')\n",
    "plt.show()\n",
    "\n",
    "# Train baseline model on original seed data only\n",
    "print(\"\\nEvaluating baseline model (trained on seed data only)...\")\n",
    "\n",
    "# Create seed-only datasets\n",
    "seed_df_with_label = seed_df.copy()\n",
    "seed_df_with_label['label'] = seed_df_with_label['sentiment'].map({'pos': 1, 'neg': 0})\n",
    "\n",
    "baseline_train, baseline_test = train_test_split(\n",
    "    seed_df_with_label, test_size=0.2, stratify=seed_df_with_label['label'], random_state=42\n",
    ")\n",
    "\n",
    "baseline_train_dataset = Dataset.from_pandas(baseline_train[['review', 'label']])\n",
    "baseline_test_dataset = Dataset.from_pandas(baseline_test[['review', 'label']])\n",
    "\n",
    "# Tokenize baseline datasets\n",
    "baseline_train_dataset = baseline_train_dataset.map(tokenize_function, batched=True)\n",
    "baseline_test_dataset = baseline_test_dataset.map(tokenize_function, batched=True)\n",
    "\n",
    "baseline_train_dataset.set_format('torch', columns=['input_ids', 'attention_mask', 'label'])\n",
    "baseline_test_dataset.set_format('torch', columns=['input_ids', 'attention_mask', 'label'])\n",
    "\n",
    "# Create baseline model\n",
    "baseline_model = AutoModelForSequenceClassification.from_pretrained(model_name, num_labels=2).to(device)\n",
    "\n",
    "# Baseline training arguments\n",
    "baseline_args = TrainingArguments(\n",
    "    output_dir='./Models/baseline-model',\n",
    "    num_train_epochs=3,\n",
    "    per_device_train_batch_size=8,\n",
    "    per_device_eval_batch_size=8,\n",
    "    learning_rate=2e-5,\n",
    "    warmup_steps=50,\n",
    "    weight_decay=0.01,\n",
    "    logging_dir='./Models/logs',\n",
    "    logging_steps=10,\n",
    "    evaluation_strategy=\"epoch\",\n",
    "    save_strategy=\"epoch\",\n",
    "    load_best_model_at_end=True,\n",
    "    fp16=True\n",
    ")\n",
    "\n",
    "# Train baseline model\n",
    "baseline_trainer = Trainer(\n",
    "    model=baseline_model,\n",
    "    args=baseline_args,\n",
    "    train_dataset=baseline_train_dataset,\n",
    "    eval_dataset=baseline_test_dataset,\n",
    "    compute_metrics=compute_metrics\n",
    ")\n",
    "\n",
    "baseline_trainer.train()\n",
    "baseline_results = baseline_trainer.evaluate()\n",
    "\n",
    "# Get baseline metrics\n",
    "baseline_predictions = baseline_trainer.predict(baseline_test_dataset)\n",
    "baseline_preds = np.argmax(baseline_predictions.predictions, axis=1)\n",
    "baseline_labels = baseline_predictions.label_ids\n",
    "baseline_accuracy = accuracy_score(baseline_labels, baseline_preds)\n",
    "baseline_f1 = f1_score(baseline_labels, baseline_preds, average='weighted')\n",
    "\n",
    "# Print comparison\n",
    "print(\"\\n=== Performance Comparison ===\")\n",
    "print(f\"Baseline (seed data only) - Accuracy: {baseline_accuracy:.4f}, F1: {baseline_f1:.4f}\")\n",
    "print(f\"Enhanced (with synthetic) - Accuracy: {accuracy:.4f}, F1: {f1:.4f}\")\n",
    "print(f\"Improvement              - Accuracy: {accuracy - baseline_accuracy:.4f}, F1: {f1 - baseline_f1:.4f}\")\n",
    "\n",
    "# Find error cases for analysis\n",
    "test_df_with_preds = test_df.copy()\n",
    "test_df_with_preds['predicted'] = preds\n",
    "test_df_with_preds['correct'] = test_df_with_preds['label'] == preds\n",
    "\n",
    "# Print a few misclassified examples\n",
    "print(\"\\n=== Error Analysis ===\")\n",
    "misclassified = test_df_with_preds[~test_df_with_preds['correct']].sample(5)\n",
    "for i, (_, row) in enumerate(misclassified.iterrows()):\n",
    "    true_sentiment = \"Positive\" if row['label'] == 1 else \"Negative\"\n",
    "    pred_sentiment = \"Positive\" if row['predicted'] == 1 else \"Negative\"\n",
    "    print(f\"Example {i+1}:\")\n",
    "    print(f\"  True sentiment: {true_sentiment}\")\n",
    "    print(f\"  Predicted sentiment: {pred_sentiment}\")\n",
    "    print(f\"  Text: {row['review'][:100]}...\")\n",
    "    print()\n",
    "\n",
    "# Plot accuracy by text length\n",
    "test_df_with_preds['length'] = test_df_with_preds['review'].apply(len)\n",
    "test_df_with_preds['length_group'] = pd.qcut(test_df_with_preds['length'], 4, labels=['Very Short', 'Short', 'Medium', 'Long'])\n",
    "accuracy_by_length = test_df_with_preds.groupby('length_group')['correct'].mean()\n",
    "\n",
    "plt.figure(figsize=(10, 6))\n",
    "accuracy_by_length.plot(kind='bar', color='teal')\n",
    "plt.title('Accuracy by Text Length')\n",
    "plt.ylabel('Accuracy')\n",
    "plt.xlabel('Text Length')\n",
    "plt.ylim(0, 1)\n",
    "plt.grid(axis='y', alpha=0.3)\n",
    "plt.savefig('Images/accuracy_by_length.png')\n",
    "plt.show()"
   ]
  },
  {
   "cell_type": "code",
   "execution_count": null,
   "metadata": {},
   "outputs": [
    {
     "name": "stdout",
     "output_type": "stream",
     "text": [
      "Epoch 1/4\n",
      "Epoch 2/4\n",
      "Epoch 3/4\n",
      "Epoch 4/4\n",
      "Saved PPO-finetuned GPT-2 model to ./ppo_gpt2_small\n"
     ]
    }
   ],
   "source": [
    "# 3.3a PPO Fine-tune GPT-2 and Save Locally\n",
    "from trl import PPOConfig, AutoModelForCausalLMWithValueHead, PPOTrainer\n",
    "from transformers import GPT2Tokenizer, GPT2LMHeadModel\n",
    "import torch\n",
    "import gc\n",
    "\n",
    "device = torch.device(\"cuda\" if torch.cuda.is_available() else \"cpu\")\n",
    "\n",
    "# Load GPT-2 base model and tokenizer\n",
    "gpt2_model_name = \"gpt2\"\n",
    "gpt2_tokenizer = GPT2Tokenizer.from_pretrained(gpt2_model_name)\n",
    "gpt2_tokenizer.pad_token = gpt2_tokenizer.eos_token\n",
    "gpt2_tokenizer.padding_side = \"left\"\n",
    "\n",
    "# Prepare PPO model\n",
    "ppo_gpt2 = AutoModelForCausalLMWithValueHead.from_pretrained(gpt2_model_name).to(device)\n",
    "\n",
    "ppo_config = PPOConfig(\n",
    "    model_name=gpt2_model_name,\n",
    "    learning_rate=5e-6,\n",
    "    batch_size=1,\n",
    "    mini_batch_size=1,\n",
    "    ppo_epochs=4,\n",
    "    gradient_accumulation_steps=1,\n",
    "    kl_penalty=\"kl\",\n",
    "    init_kl_coef=0.2,\n",
    "    adap_kl_ctrl=True\n",
    ")\n",
    "\n",
    "def gpt2_create_prompts(sentiment, num_prompts, seed_df):\n",
    "    \"\"\"\n",
    "    Create prompts for GPT-2 synthetic data generation, similar to T5 prompts.\n",
    "    Each prompt includes two seed examples of the target sentiment.\n",
    "    \"\"\"\n",
    "    examples_df = seed_df[seed_df['sentiment'] == sentiment]\n",
    "    prompts = []\n",
    "    for _ in range(num_prompts):\n",
    "        examples = examples_df.sample(2)\n",
    "        prompt = f\"Generate a {sentiment} sentiment text in Roman Urdu.\\n\\n\"\n",
    "        for idx, row in examples.iterrows():\n",
    "            prompt += f\"Example: {row['review']}\\n\\n\"\n",
    "        prompt += \"New text:\"\n",
    "        prompts.append(prompt)\n",
    "    return prompts\n",
    "\n",
    "# Prepare prompts and targets (reuse your create_prompts logic)\n",
    "num_prompts_per_sentiment = 50\n",
    "neg_prompts = gpt2_create_prompts('neg', num_prompts_per_sentiment, seed_df)\n",
    "pos_prompts = gpt2_create_prompts('pos', num_prompts_per_sentiment, seed_df)\n",
    "all_prompts = neg_prompts + pos_prompts\n",
    "target_sentiments = ['neg'] * num_prompts_per_sentiment + ['pos'] * num_prompts_per_sentiment\n",
    "\n",
    "# Tokenize prompts\n",
    "tokenized_prompts = gpt2_tokenizer(all_prompts, padding=True, truncation=True, return_tensors=\"pt\")\n",
    "class PPODataset(torch.utils.data.Dataset):\n",
    "    def __init__(self, input_ids, attention_mask, prompts, sentiments):\n",
    "        self.input_ids = input_ids\n",
    "        self.attention_mask = attention_mask\n",
    "        self.prompts = prompts\n",
    "        self.sentiments = sentiments\n",
    "    def __len__(self):\n",
    "        return len(self.prompts)\n",
    "    def __getitem__(self, idx):\n",
    "        return {\n",
    "            \"input_ids\": self.input_ids[idx],\n",
    "            \"attention_mask\": self.attention_mask[idx],\n",
    "            \"prompt\": self.prompts[idx],\n",
    "            \"sentiment\": self.sentiments[idx]\n",
    "        }\n",
    "\n",
    "ppo_dataset = PPODataset(\n",
    "    tokenized_prompts['input_ids'],\n",
    "    tokenized_prompts['attention_mask'],\n",
    "    all_prompts,\n",
    "    target_sentiments\n",
    ")\n",
    "\n",
    "ppo_trainer = PPOTrainer(\n",
    "    config=ppo_config,\n",
    "    model=ppo_gpt2,\n",
    "    tokenizer=gpt2_tokenizer\n",
    ")\n",
    "\n",
    "def gpt2_get_reward(text, target_sentiment):\n",
    "    if not text or len(text.strip()) == 0:\n",
    "        return 0.0\n",
    "    try:\n",
    "        labels, probabilities = classifier.predict(text, k=2)\n",
    "        label_prob_dict = dict(zip(labels, probabilities))\n",
    "        target_label = '__label__' + target_sentiment\n",
    "        reward = label_prob_dict.get(target_label, 0.0)\n",
    "        return reward if isinstance(reward, float) and reward >= 0 else 0.0\n",
    "    except Exception:\n",
    "        return 0.0\n",
    "\n",
    "for epoch in range(4):\n",
    "    print(f\"Epoch {epoch+1}/4\")\n",
    "    for idx in range(len(ppo_dataset)):\n",
    "        example = ppo_dataset[idx]\n",
    "        query_tensor = example[\"input_ids\"].unsqueeze(0).to(device)\n",
    "        attention_mask = example[\"attention_mask\"].unsqueeze(0).to(device)\n",
    "        with torch.no_grad():\n",
    "            response_tensor = ppo_gpt2.generate(\n",
    "                input_ids=query_tensor,\n",
    "                attention_mask=attention_mask,\n",
    "                max_length=query_tensor.shape[1] + 100,\n",
    "                min_length=10,\n",
    "                do_sample=True,\n",
    "                top_k=50,\n",
    "                top_p=0.95,\n",
    "                temperature=0.9,\n",
    "                pad_token_id=gpt2_tokenizer.eos_token_id\n",
    "            )\n",
    "        decoded_response = gpt2_tokenizer.decode(response_tensor[0], skip_special_tokens=True)\n",
    "        reward = gpt2_get_reward(decoded_response, example[\"sentiment\"])\n",
    "        if reward < 0.05:\n",
    "            continue\n",
    "        rewards_tensor = torch.tensor([reward], device=device)\n",
    "        ppo_trainer.step([query_tensor[0]], [response_tensor[0]], [rewards_tensor])\n",
    "        if idx % 10 == 0:\n",
    "            torch.cuda.empty_cache()\n",
    "    gc.collect()\n",
    "    torch.cuda.empty_cache()\n",
    "\n",
    "# Save PPO-finetuned GPT-2 model locally\n",
    "ppo_gpt2.pretrained_model.save_pretrained(\"Models/ppo_gpt2_small\")\n",
    "gpt2_tokenizer.save_pretrained(\"Models/ppo_gpt2_small\")\n",
    "print(\"Saved PPO-finetuned GPT-2 model to ./Models/ppo_gpt2_small\")"
   ]
  },
  {
   "cell_type": "code",
   "execution_count": null,
   "metadata": {},
   "outputs": [
    {
     "name": "stdout",
     "output_type": "stream",
     "text": [
      "Generated 200 GPT-2 synthetic samples. Augmented dataset size: 300\n"
     ]
    }
   ],
   "source": [
    "# 3.3 Generate Synthetic Data with PPO-Trained GPT-2 Model\n",
    "import pandas as pd\n",
    "import torch\n",
    "from transformers import GPT2LMHeadModel, GPT2Tokenizer\n",
    "\n",
    "# Load PPO-trained GPT-2 model and tokenizer (replace with your actual PPO fine-tuned GPT-2 path)\n",
    "gpt2_model = GPT2LMHeadModel.from_pretrained(\"Models/ppo_gpt2_small\").to(\"cuda\")\n",
    "gpt2_tokenizer = GPT2Tokenizer.from_pretrained(\"Models/ppo_gpt2_small\")\n",
    "gpt2_tokenizer.pad_token = gpt2_tokenizer.eos_token  # For padding\n",
    "\n",
    "def gpt2_generate_synthetic_text(prompt, max_length=150):\n",
    "    inputs = gpt2_tokenizer(prompt, return_tensors=\"pt\", padding=True, truncation=True).to(\"cuda\")\n",
    "    outputs = gpt2_model.generate(\n",
    "        input_ids=inputs[\"input_ids\"],\n",
    "        attention_mask=inputs[\"attention_mask\"],\n",
    "        max_length=inputs[\"input_ids\"].shape[1] + max_length,\n",
    "        do_sample=True,\n",
    "        top_k=50,\n",
    "        top_p=0.95,\n",
    "        temperature=0.7,\n",
    "        num_return_sequences=1,\n",
    "        pad_token_id=gpt2_tokenizer.eos_token_id\n",
    "    )\n",
    "    return gpt2_tokenizer.decode(outputs[0], skip_special_tokens=True)\n",
    "\n",
    "def gpt2_create_prompts(sentiment, num_prompts, seed_df):\n",
    "    examples_df = seed_df[seed_df['sentiment'] == sentiment]\n",
    "    prompts = []\n",
    "    for _ in range(num_prompts):\n",
    "        examples = examples_df.sample(2)\n",
    "        prompt = f\"Generate a {sentiment} sentiment text in Roman Urdu.\\n\\n\"\n",
    "        for idx, row in examples.iterrows():\n",
    "            prompt += f\"Example: {row['review']}\\n\\n\"\n",
    "        prompt += \"New text:\"\n",
    "        prompts.append(prompt)\n",
    "    return prompts\n",
    "\n",
    "# Generate synthetic data\n",
    "num_synthetic_per_sentiment = 100\n",
    "neg_prompts = gpt2_create_prompts('neg', num_synthetic_per_sentiment, seed_df)\n",
    "pos_prompts = gpt2_create_prompts('pos', num_synthetic_per_sentiment, seed_df)\n",
    "\n",
    "gpt2_synthetic_texts = []\n",
    "gpt2_synthetic_labels = []\n",
    "\n",
    "for prompt in neg_prompts:\n",
    "    text = gpt2_generate_synthetic_text(prompt)\n",
    "    gpt2_synthetic_texts.append(text)\n",
    "    gpt2_synthetic_labels.append('neg')\n",
    "\n",
    "for prompt in pos_prompts:\n",
    "    text = gpt2_generate_synthetic_text(prompt)\n",
    "    gpt2_synthetic_texts.append(text)\n",
    "    gpt2_synthetic_labels.append('pos')\n",
    "\n",
    "gpt2_synthetic_df = pd.DataFrame({\n",
    "    'review': gpt2_synthetic_texts,\n",
    "    'sentiment': gpt2_synthetic_labels\n",
    "})\n",
    "\n",
    "# Combine with seed data\n",
    "gpt2_augmented_df = pd.concat([seed_df, gpt2_synthetic_df], ignore_index=True)\n",
    "gpt2_augmented_df.to_csv('Data/gpt2_augmented_dataset.csv', index=False)\n",
    "print(f\"Generated {len(gpt2_synthetic_df)} GPT-2 synthetic samples. Augmented dataset size: {len(gpt2_augmented_df)}\")"
   ]
  },
  {
   "cell_type": "code",
   "execution_count": null,
   "metadata": {},
   "outputs": [
    {
     "name": "stdout",
     "output_type": "stream",
     "text": [
      "Loading GPT-2 augmented dataset...\n",
      "Filtering GPT-2 synthetic data based on classifier confidence...\n"
     ]
    },
    {
     "name": "stderr",
     "output_type": "stream",
     "text": [
      "200it [00:00, 17105.99it/s]"
     ]
    },
    {
     "name": "stdout",
     "output_type": "stream",
     "text": [
      "Kept 0 out of 200 GPT-2 synthetic examples\n"
     ]
    },
    {
     "name": "stderr",
     "output_type": "stream",
     "text": [
      "\n"
     ]
    },
    {
     "data": {
      "image/png": "[encoded data removed]",
      "text/plain": [
       "<Figure size 1000x600 with 1 Axes>"
      ]
     },
     "metadata": {},
     "output_type": "display_data"
    },
    {
     "name": "stdout",
     "output_type": "stream",
     "text": [
      "Original GPT-2 augmented dataset size: 300\n",
      "Filtered GPT-2 augmented dataset size: 100\n"
     ]
    }
   ],
   "source": [
    "# 3.4 Filter GPT-2 Synthetic Data by Quality\n",
    "import fasttext\n",
    "import pandas as pd\n",
    "import numpy as np\n",
    "from tqdm import tqdm\n",
    "import matplotlib.pyplot as plt\n",
    "\n",
    "print(\"Loading GPT-2 augmented dataset...\")\n",
    "gpt2_augmented_df = pd.read_csv('Data/gpt2_augmented_dataset.csv')\n",
    "\n",
    "# Separate seed data from synthetic data\n",
    "seed_data = gpt2_augmented_df.iloc[:len(seed_df)]\n",
    "synthetic_data = gpt2_augmented_df.iloc[len(seed_df):]\n",
    "\n",
    "print(\"Filtering GPT-2 synthetic data based on classifier confidence...\")\n",
    "high_quality_indices = []\n",
    "confidence_scores = []\n",
    "\n",
    "for idx, row in tqdm(synthetic_data.iterrows()):\n",
    "    target_label = '__label__' + row['sentiment']\n",
    "    try:\n",
    "        labels, probabilities = classifier.predict(row['review'], k=2)\n",
    "        label_prob_dict = dict(zip(labels, probabilities))\n",
    "        confidence = label_prob_dict.get(target_label, 0.0)\n",
    "        confidence_scores.append(confidence)\n",
    "        if confidence >= 0.75:\n",
    "            high_quality_indices.append(idx)\n",
    "    except Exception as e:\n",
    "        continue\n",
    "\n",
    "print(f\"Kept {len(high_quality_indices)} out of {len(synthetic_data)} GPT-2 synthetic examples\")\n",
    "\n",
    "filtered_synthetic_data = synthetic_data.loc[high_quality_indices]\n",
    "filtered_gpt2_augmented_df = pd.concat([seed_data, filtered_synthetic_data], ignore_index=True)\n",
    "filtered_gpt2_augmented_df.to_csv('Data/gpt2_filtered_augmented_dataset.csv', index=False)\n",
    "\n",
    "plt.figure(figsize=(10, 6))\n",
    "plt.hist(confidence_scores, bins=20, alpha=0.7)\n",
    "plt.axvline(x=0.75, color='r', linestyle='--', label='Threshold (0.75)')\n",
    "plt.xlabel('Classifier Confidence')\n",
    "plt.ylabel('Count')\n",
    "plt.title('Distribution of Classifier Confidence on GPT-2 Synthetic Data')\n",
    "plt.legend()\n",
    "plt.savefig('Images/gpt2_synthetic_data_quality.png')\n",
    "plt.show()\n",
    "\n",
    "print(f\"Original GPT-2 augmented dataset size: {len(gpt2_augmented_df)}\")\n",
    "print(f\"Filtered GPT-2 augmented dataset size: {len(filtered_gpt2_augmented_df)}\")"
   ]
  },
  {
   "cell_type": "code",
   "execution_count": null,
   "metadata": {},
   "outputs": [
    {
     "name": "stderr",
     "output_type": "stream",
     "text": [
      "2025-05-12 12:07:14.635739: E external/local_xla/xla/stream_executor/cuda/cuda_fft.cc:485] Unable to register cuFFT factory: Attempting to register factory for plugin cuFFT when one has already been registered\n",
      "2025-05-12 12:07:15.855531: E external/local_xla/xla/stream_executor/cuda/cuda_dnn.cc:8454] Unable to register cuDNN factory: Attempting to register factory for plugin cuDNN when one has already been registered\n",
      "2025-05-12 12:07:16.173160: E external/local_xla/xla/stream_executor/cuda/cuda_blas.cc:1452] Unable to register cuBLAS factory: Attempting to register factory for plugin cuBLAS when one has already been registered\n",
      "2025-05-12 12:07:18.478183: I tensorflow/core/platform/cpu_feature_guard.cc:210] This TensorFlow binary is optimized to use available CPU instructions in performance-critical operations.\n",
      "To enable the following instructions: AVX2 FMA, in other operations, rebuild TensorFlow with the appropriate compiler flags.\n",
      "2025-05-12 12:07:23.889133: W tensorflow/compiler/tf2tensorrt/utils/py_utils.cc:38] TF-TRT Warning: Could not find TensorRT\n",
      "/home/Genai/project/.venv/lib/python3.10/site-packages/huggingface_hub/file_download.py:1142: FutureWarning: `resume_download` is deprecated and will be removed in version 1.0.0. Downloads always resume when possible. If you want to force a new download, use `force_download=True`.\n",
      "  warnings.warn(\n",
      "Some weights of BertForSequenceClassification were not initialized from the model checkpoint at bert-base-multilingual-cased and are newly initialized: ['classifier.bias', 'classifier.weight']\n",
      "You should probably TRAIN this model on a down-stream task to be able to use it for predictions and inference.\n"
     ]
    },
    {
     "data": {
      "application/vnd.jupyter.widget-view+json": {
       "model_id": "9d193809e17241f5898228061508eabd",
       "version_major": 2,
       "version_minor": 0
      },
      "text/plain": [
       "Map:   0%|          | 0/240 [00:00<?, ? examples/s]"
      ]
     },
     "metadata": {},
     "output_type": "display_data"
    },
    {
     "data": {
      "application/vnd.jupyter.widget-view+json": {
       "model_id": "95cdd5a3bb8f4dbe989f3cf1963dde9b",
       "version_major": 2,
       "version_minor": 0
      },
      "text/plain": [
       "Map:   0%|          | 0/60 [00:00<?, ? examples/s]"
      ]
     },
     "metadata": {},
     "output_type": "display_data"
    },
    {
     "name": "stderr",
     "output_type": "stream",
     "text": [
      "/home/Genai/project/.venv/lib/python3.10/site-packages/accelerate/accelerator.py:457: FutureWarning: Passing the following arguments to `Accelerator` is deprecated and will be removed in version 1.0 of Accelerate: dict_keys(['dispatch_batches', 'split_batches', 'even_batches', 'use_seedable_sampler']). Please pass an `accelerate.DataLoaderConfiguration` instead: \n",
      "dataloader_config = DataLoaderConfiguration(dispatch_batches=None, split_batches=False, even_batches=True, use_seedable_sampler=True)\n",
      "  warnings.warn(\n",
      "/home/Genai/project/.venv/lib/python3.10/site-packages/accelerate/accelerator.py:494: FutureWarning: `torch.cuda.amp.GradScaler(args...)` is deprecated. Please use `torch.amp.GradScaler('cuda', args...)` instead.\n",
      "  self.scaler = torch.cuda.amp.GradScaler(**kwargs)\n"
     ]
    },
    {
     "data": {
      "text/html": [
       "\n",
       "    <div>\n",
       "      \n",
       "      <progress value='90' max='90' style='width:300px; height:20px; vertical-align: middle;'></progress>\n",
       "      [90/90 02:27, Epoch 3/3]\n",
       "    </div>\n",
       "    <table border=\"1\" class=\"dataframe\">\n",
       "  <thead>\n",
       " <tr style=\"text-align: left;\">\n",
       "      <th>Epoch</th>\n",
       "      <th>Training Loss</th>\n",
       "      <th>Validation Loss</th>\n",
       "      <th>Accuracy</th>\n",
       "      <th>F1</th>\n",
       "    </tr>\n",
       "  </thead>\n",
       "  <tbody>\n",
       "    <tr>\n",
       "      <td>1</td>\n",
       "      <td>0.695400</td>\n",
       "      <td>0.683044</td>\n",
       "      <td>0.616667</td>\n",
       "      <td>0.542577</td>\n",
       "    </tr>\n",
       "    <tr>\n",
       "      <td>2</td>\n",
       "      <td>0.411700</td>\n",
       "      <td>0.255338</td>\n",
       "      <td>0.933333</td>\n",
       "      <td>0.932884</td>\n",
       "    </tr>\n",
       "    <tr>\n",
       "      <td>3</td>\n",
       "      <td>0.216800</td>\n",
       "      <td>0.350974</td>\n",
       "      <td>0.866667</td>\n",
       "      <td>0.864871</td>\n",
       "    </tr>\n",
       "  </tbody>\n",
       "</table><p>"
      ],
      "text/plain": [
       "<IPython.core.display.HTML object>"
      ]
     },
     "metadata": {},
     "output_type": "display_data"
    },
    {
     "data": {
      "text/html": [],
      "text/plain": [
       "<IPython.core.display.HTML object>"
      ]
     },
     "metadata": {},
     "output_type": "display_data"
    },
    {
     "name": "stdout",
     "output_type": "stream",
     "text": [
      "Evaluation results: {'eval_loss': 0.25533753633499146, 'eval_accuracy': 0.9333333333333333, 'eval_f1': 0.9328843995510662, 'eval_runtime': 0.6049, 'eval_samples_per_second': 99.186, 'eval_steps_per_second': 13.225, 'epoch': 3.0}\n",
      "Test Accuracy: 0.9333\n",
      "Test F1 Score: 0.9329\n"
     ]
    }
   ],
   "source": [
    "# 3.5 Fine-Tune and Evaluate BERT on GPT-2 Synthetic Data\n",
    "import pandas as pd\n",
    "import torch\n",
    "from transformers import BertTokenizer, BertForSequenceClassification, Trainer, TrainingArguments\n",
    "from datasets import Dataset\n",
    "from sklearn.model_selection import train_test_split\n",
    "from sklearn.metrics import accuracy_score, f1_score\n",
    "import numpy as np\n",
    "\n",
    "# Load GPT-2 augmented dataset\n",
    "gpt2_augmented_df = pd.read_csv('Data/gpt2_augmented_dataset.csv')\n",
    "gpt2_augmented_df['label'] = gpt2_augmented_df['sentiment'].map({'pos': 1, 'neg': 0})\n",
    "\n",
    "# Split into train and test sets\n",
    "train_df, test_df = train_test_split(gpt2_augmented_df, test_size=0.2, stratify=gpt2_augmented_df['label'], random_state=42)\n",
    "\n",
    "# Convert to Hugging Face Dataset\n",
    "train_dataset = Dataset.from_pandas(train_df[['review', 'label']])\n",
    "test_dataset = Dataset.from_pandas(test_df[['review', 'label']])\n",
    "\n",
    "# Load tokenizer and model\n",
    "tokenizer = BertTokenizer.from_pretrained('bert-base-multilingual-cased')\n",
    "model = BertForSequenceClassification.from_pretrained('bert-base-multilingual-cased', num_labels=2).to(\"cuda\")\n",
    "\n",
    "# Tokenize datasets\n",
    "def tokenize_function(examples):\n",
    "    return tokenizer(examples['review'], padding='max_length', truncation=True, max_length=128)\n",
    "\n",
    "train_dataset = train_dataset.map(tokenize_function, batched=True)\n",
    "test_dataset = test_dataset.map(tokenize_function, batched=True)\n",
    "\n",
    "train_dataset.set_format('torch', columns=['input_ids', 'attention_mask', 'label'])\n",
    "test_dataset.set_format('torch', columns=['input_ids', 'attention_mask', 'label'])\n",
    "\n",
    "def compute_metrics(pred):\n",
    "    labels = pred.label_ids\n",
    "    preds = pred.predictions.argmax(-1)\n",
    "    acc = accuracy_score(labels, preds)\n",
    "    f1 = f1_score(labels, preds, average='weighted')\n",
    "    return {'accuracy': acc, 'f1': f1}\n",
    "\n",
    "training_args = TrainingArguments(\n",
    "    output_dir='./Models/bert_finetuned_gpt2',\n",
    "    num_train_epochs=3,\n",
    "    per_device_train_batch_size=8,\n",
    "    per_device_eval_batch_size=8,\n",
    "    warmup_steps=100,\n",
    "    weight_decay=0.01,\n",
    "    logging_dir='./Models/logs',\n",
    "    logging_steps=10,\n",
    "    evaluation_strategy=\"epoch\",\n",
    "    save_strategy=\"epoch\",\n",
    "    load_best_model_at_end=True,\n",
    "    fp16=True\n",
    ")\n",
    "\n",
    "trainer = Trainer(\n",
    "    model=model,\n",
    "    args=training_args,\n",
    "    train_dataset=train_dataset,\n",
    "    eval_dataset=test_dataset,\n",
    "    compute_metrics=compute_metrics\n",
    ")\n",
    "\n",
    "trainer.train()\n",
    "eval_results = trainer.evaluate()\n",
    "print(f\"Evaluation results: {eval_results}\")\n",
    "\n",
    "model.save_pretrained('Models/bert_finetuned_gpt2')\n",
    "tokenizer.save_pretrained('Models/bert_finetuned_gpt2')\n",
    "\n",
    "predictions = trainer.predict(test_dataset)\n",
    "preds = np.argmax(predictions.predictions, axis=1)\n",
    "labels = predictions.label_ids\n",
    "accuracy = accuracy_score(labels, preds)\n",
    "f1 = f1_score(labels, preds, average='weighted')\n",
    "print(f\"Test Accuracy: {accuracy:.4f}\")\n",
    "print(f\"Test F1 Score: {f1:.4f}\")"
   ]
  },
  {
   "cell_type": "code",
   "execution_count": 15,
   "metadata": {},
   "outputs": [
    {
     "name": "stderr",
     "output_type": "stream",
     "text": [
      "/home/Genai/project/.venv/lib/python3.10/site-packages/huggingface_hub/file_download.py:1142: FutureWarning: `resume_download` is deprecated and will be removed in version 1.0.0. Downloads always resume when possible. If you want to force a new download, use `force_download=True`.\n",
      "  warnings.warn(\n",
      "Some weights of XLMRobertaForSequenceClassification were not initialized from the model checkpoint at xlm-roberta-base and are newly initialized: ['classifier.dense.bias', 'classifier.dense.weight', 'classifier.out_proj.bias', 'classifier.out_proj.weight']\n",
      "You should probably TRAIN this model on a down-stream task to be able to use it for predictions and inference.\n"
     ]
    },
    {
     "data": {
      "application/vnd.jupyter.widget-view+json": {
       "model_id": "d83c48fda4a14a658bdcda869106499f",
       "version_major": 2,
       "version_minor": 0
      },
      "text/plain": [
       "Map:   0%|          | 0/80 [00:00<?, ? examples/s]"
      ]
     },
     "metadata": {},
     "output_type": "display_data"
    },
    {
     "data": {
      "application/vnd.jupyter.widget-view+json": {
       "model_id": "708bb705e01449b19eb6a3032e730afd",
       "version_major": 2,
       "version_minor": 0
      },
      "text/plain": [
       "Map:   0%|          | 0/20 [00:00<?, ? examples/s]"
      ]
     },
     "metadata": {},
     "output_type": "display_data"
    },
    {
     "name": "stderr",
     "output_type": "stream",
     "text": [
      "/home/Genai/project/.venv/lib/python3.10/site-packages/accelerate/accelerator.py:457: FutureWarning: Passing the following arguments to `Accelerator` is deprecated and will be removed in version 1.0 of Accelerate: dict_keys(['dispatch_batches', 'split_batches', 'even_batches', 'use_seedable_sampler']). Please pass an `accelerate.DataLoaderConfiguration` instead: \n",
      "dataloader_config = DataLoaderConfiguration(dispatch_batches=None, split_batches=False, even_batches=True, use_seedable_sampler=True)\n",
      "  warnings.warn(\n",
      "/home/Genai/project/.venv/lib/python3.10/site-packages/accelerate/accelerator.py:494: FutureWarning: `torch.cuda.amp.GradScaler(args...)` is deprecated. Please use `torch.amp.GradScaler('cuda', args...)` instead.\n",
      "  self.scaler = torch.cuda.amp.GradScaler(**kwargs)\n"
     ]
    },
    {
     "name": "stdout",
     "output_type": "stream",
     "text": [
      "Stage 1: Training with frozen layers...\n"
     ]
    },
    {
     "data": {
      "text/html": [
       "\n",
       "    <div>\n",
       "      \n",
       "      <progress value='30' max='30' style='width:300px; height:20px; vertical-align: middle;'></progress>\n",
       "      [30/30 01:34, Epoch 3/3]\n",
       "    </div>\n",
       "    <table border=\"1\" class=\"dataframe\">\n",
       "  <thead>\n",
       " <tr style=\"text-align: left;\">\n",
       "      <th>Epoch</th>\n",
       "      <th>Training Loss</th>\n",
       "      <th>Validation Loss</th>\n",
       "      <th>Accuracy</th>\n",
       "      <th>F1</th>\n",
       "    </tr>\n",
       "  </thead>\n",
       "  <tbody>\n",
       "    <tr>\n",
       "      <td>1</td>\n",
       "      <td>0.685500</td>\n",
       "      <td>0.688184</td>\n",
       "      <td>0.650000</td>\n",
       "      <td>0.580878</td>\n",
       "    </tr>\n",
       "    <tr>\n",
       "      <td>2</td>\n",
       "      <td>0.696600</td>\n",
       "      <td>0.688184</td>\n",
       "      <td>0.600000</td>\n",
       "      <td>0.493333</td>\n",
       "    </tr>\n",
       "    <tr>\n",
       "      <td>3</td>\n",
       "      <td>0.688000</td>\n",
       "      <td>0.687817</td>\n",
       "      <td>0.550000</td>\n",
       "      <td>0.390323</td>\n",
       "    </tr>\n",
       "  </tbody>\n",
       "</table><p>"
      ],
      "text/plain": [
       "<IPython.core.display.HTML object>"
      ]
     },
     "metadata": {},
     "output_type": "display_data"
    },
    {
     "name": "stderr",
     "output_type": "stream",
     "text": [
      "Checkpoint destination directory ./Models/xlm-roberta-gpt2-stage1/checkpoint-10 already exists and is non-empty. Saving will proceed but saved results may be invalid.\n",
      "Checkpoint destination directory ./Models/xlm-roberta-gpt2-stage1/checkpoint-20 already exists and is non-empty. Saving will proceed but saved results may be invalid.\n",
      "Checkpoint destination directory ./Models/xlm-roberta-gpt2-stage1/checkpoint-30 already exists and is non-empty. Saving will proceed but saved results may be invalid.\n",
      "/home/Genai/project/.venv/lib/python3.10/site-packages/accelerate/accelerator.py:457: FutureWarning: Passing the following arguments to `Accelerator` is deprecated and will be removed in version 1.0 of Accelerate: dict_keys(['dispatch_batches', 'split_batches', 'even_batches', 'use_seedable_sampler']). Please pass an `accelerate.DataLoaderConfiguration` instead: \n",
      "dataloader_config = DataLoaderConfiguration(dispatch_batches=None, split_batches=False, even_batches=True, use_seedable_sampler=True)\n",
      "  warnings.warn(\n",
      "/home/Genai/project/.venv/lib/python3.10/site-packages/accelerate/accelerator.py:494: FutureWarning: `torch.cuda.amp.GradScaler(args...)` is deprecated. Please use `torch.amp.GradScaler('cuda', args...)` instead.\n",
      "  self.scaler = torch.cuda.amp.GradScaler(**kwargs)\n"
     ]
    },
    {
     "name": "stdout",
     "output_type": "stream",
     "text": [
      "Stage 2: Fine-tuning all layers...\n"
     ]
    },
    {
     "data": {
      "text/html": [
       "\n",
       "    <div>\n",
       "      \n",
       "      <progress value='30' max='50' style='width:300px; height:20px; vertical-align: middle;'></progress>\n",
       "      [30/50 02:44 < 01:57, 0.17 it/s, Epoch 3/5]\n",
       "    </div>\n",
       "    <table border=\"1\" class=\"dataframe\">\n",
       "  <thead>\n",
       " <tr style=\"text-align: left;\">\n",
       "      <th>Epoch</th>\n",
       "      <th>Training Loss</th>\n",
       "      <th>Validation Loss</th>\n",
       "      <th>Accuracy</th>\n",
       "      <th>F1</th>\n",
       "    </tr>\n",
       "  </thead>\n",
       "  <tbody>\n",
       "    <tr>\n",
       "      <td>1</td>\n",
       "      <td>0.685100</td>\n",
       "      <td>0.688208</td>\n",
       "      <td>0.650000</td>\n",
       "      <td>0.580878</td>\n",
       "    </tr>\n",
       "    <tr>\n",
       "      <td>2</td>\n",
       "      <td>0.696500</td>\n",
       "      <td>0.688330</td>\n",
       "      <td>0.600000</td>\n",
       "      <td>0.493333</td>\n",
       "    </tr>\n",
       "    <tr>\n",
       "      <td>3</td>\n",
       "      <td>0.687400</td>\n",
       "      <td>0.688086</td>\n",
       "      <td>0.600000</td>\n",
       "      <td>0.493333</td>\n",
       "    </tr>\n",
       "  </tbody>\n",
       "</table><p>"
      ],
      "text/plain": [
       "<IPython.core.display.HTML object>"
      ]
     },
     "metadata": {},
     "output_type": "display_data"
    },
    {
     "name": "stderr",
     "output_type": "stream",
     "text": [
      "Checkpoint destination directory ./Models/xlm-roberta-gpt2-stage2/checkpoint-10 already exists and is non-empty. Saving will proceed but saved results may be invalid.\n",
      "Checkpoint destination directory ./Models/xlm-roberta-gpt2-stage2/checkpoint-20 already exists and is non-empty. Saving will proceed but saved results may be invalid.\n",
      "Checkpoint destination directory ./Models/xlm-roberta-gpt2-stage2/checkpoint-30 already exists and is non-empty. Saving will proceed but saved results may be invalid.\n"
     ]
    },
    {
     "data": {
      "text/html": [],
      "text/plain": [
       "<IPython.core.display.HTML object>"
      ]
     },
     "metadata": {},
     "output_type": "display_data"
    },
    {
     "name": "stdout",
     "output_type": "stream",
     "text": [
      "Evaluation results: {'eval_loss': 0.6882079839706421, 'eval_accuracy': 0.65, 'eval_f1': 0.5808777429467085, 'eval_runtime': 0.3571, 'eval_samples_per_second': 56.014, 'eval_steps_per_second': 8.402, 'epoch': 3.0}\n",
      "Test Accuracy: 0.6500\n",
      "Test F1 Score: 0.5809\n"
     ]
    }
   ],
   "source": [
    "# 3.6 Fine-Tune and Evaluate XLM-RoBERTa on Filtered GPT-2 Synthetic Data\n",
    "import pandas as pd\n",
    "import torch\n",
    "import numpy as np\n",
    "from transformers import AutoTokenizer, AutoModelForSequenceClassification, Trainer, TrainingArguments, EarlyStoppingCallback\n",
    "from datasets import Dataset\n",
    "from sklearn.model_selection import train_test_split\n",
    "from sklearn.metrics import accuracy_score, f1_score, confusion_matrix\n",
    "import matplotlib.pyplot as plt\n",
    "import seaborn as sns\n",
    "\n",
    "# Load filtered GPT-2 augmented dataset\n",
    "filtered_gpt2_augmented_df = pd.read_csv('Data/gpt2_filtered_augmented_dataset.csv')\n",
    "filtered_gpt2_augmented_df['label'] = filtered_gpt2_augmented_df['sentiment'].map({'pos': 1, 'neg': 0})\n",
    "\n",
    "train_df, test_df = train_test_split(filtered_gpt2_augmented_df, test_size=0.2, stratify=filtered_gpt2_augmented_df['label'], random_state=42)\n",
    "\n",
    "device = torch.device(\"cuda\" if torch.cuda.is_available() else \"cpu\")\n",
    "model_name = \"xlm-roberta-base\"\n",
    "tokenizer = AutoTokenizer.from_pretrained(model_name)\n",
    "model = AutoModelForSequenceClassification.from_pretrained(model_name, num_labels=2).to(device)\n",
    "\n",
    "train_dataset = Dataset.from_pandas(train_df[['review', 'label']])\n",
    "test_dataset = Dataset.from_pandas(test_df[['review', 'label']])\n",
    "\n",
    "def tokenize_function(examples):\n",
    "    return tokenizer(examples['review'], padding='max_length', truncation=True, max_length=256)\n",
    "\n",
    "train_dataset = train_dataset.map(tokenize_function, batched=True)\n",
    "test_dataset = test_dataset.map(tokenize_function, batched=True)\n",
    "\n",
    "train_dataset.set_format('torch', columns=['input_ids', 'attention_mask', 'label'])\n",
    "test_dataset.set_format('torch', columns=['input_ids', 'attention_mask', 'label'])\n",
    "\n",
    "def compute_metrics(pred):\n",
    "    labels = pred.label_ids\n",
    "    preds = pred.predictions.argmax(-1)\n",
    "    acc = accuracy_score(labels, preds)\n",
    "    f1 = f1_score(labels, preds, average='weighted')\n",
    "    return {'accuracy': acc, 'f1': f1}\n",
    "\n",
    "# Freeze all but last 2 layers\n",
    "for param in model.roberta.embeddings.parameters():\n",
    "    param.requires_grad = False\n",
    "for layer in model.roberta.encoder.layer[:-2]:\n",
    "    for param in layer.parameters():\n",
    "        param.requires_grad = False\n",
    "\n",
    "training_args_stage1 = TrainingArguments(\n",
    "    output_dir='./Models/xlm-roberta-gpt2-stage1',\n",
    "    num_train_epochs=3,\n",
    "    per_device_train_batch_size=8,\n",
    "    per_device_eval_batch_size=8,\n",
    "    learning_rate=2e-5,\n",
    "    lr_scheduler_type=\"cosine\",\n",
    "    warmup_steps=100,\n",
    "    weight_decay=0.01,\n",
    "    logging_dir='./Models/logs',\n",
    "    logging_steps=10,\n",
    "    evaluation_strategy=\"epoch\",\n",
    "    save_strategy=\"epoch\",\n",
    "    load_best_model_at_end=True,\n",
    "    metric_for_best_model=\"accuracy\",\n",
    "    fp16=True\n",
    ")\n",
    "\n",
    "early_stopping = EarlyStoppingCallback(early_stopping_patience=2, early_stopping_threshold=0.01)\n",
    "\n",
    "trainer_stage1 = Trainer(\n",
    "    model=model,\n",
    "    args=training_args_stage1,\n",
    "    train_dataset=train_dataset,\n",
    "    eval_dataset=test_dataset,\n",
    "    compute_metrics=compute_metrics,\n",
    "    callbacks=[early_stopping]\n",
    ")\n",
    "\n",
    "print(\"Stage 1: Training with frozen layers...\")\n",
    "trainer_stage1.train()\n",
    "\n",
    "# Unfreeze all layers for fine-tuning\n",
    "for param in model.parameters():\n",
    "    param.requires_grad = True\n",
    "\n",
    "training_args_stage2 = TrainingArguments(\n",
    "    output_dir='./Models/xlm-roberta-gpt2-stage2',\n",
    "    num_train_epochs=5,\n",
    "    per_device_train_batch_size=8,\n",
    "    per_device_eval_batch_size=8,\n",
    "    learning_rate=5e-6,\n",
    "    lr_scheduler_type=\"cosine\",\n",
    "    warmup_steps=50,\n",
    "    weight_decay=0.01,\n",
    "    logging_dir='./Models/logs',\n",
    "    logging_steps=10,\n",
    "    evaluation_strategy=\"epoch\",\n",
    "    save_strategy=\"epoch\",\n",
    "    load_best_model_at_end=True,\n",
    "    metric_for_best_model=\"accuracy\",\n",
    "    fp16=True\n",
    ")\n",
    "\n",
    "trainer_stage2 = Trainer(\n",
    "    model=model,\n",
    "    args=training_args_stage2,\n",
    "    train_dataset=train_dataset,\n",
    "    eval_dataset=test_dataset,\n",
    "    compute_metrics=compute_metrics,\n",
    "    callbacks=[early_stopping]\n",
    ")\n",
    "\n",
    "print(\"Stage 2: Fine-tuning all layers...\")\n",
    "trainer_stage2.train()\n",
    "\n",
    "eval_results = trainer_stage2.evaluate()\n",
    "print(f\"Evaluation results: {eval_results}\")\n",
    "\n",
    "model.save_pretrained('Models/xlm-roberta-finetuned-gpt2')\n",
    "tokenizer.save_pretrained('Models/xlm-roberta-finetuned-gpt2')\n",
    "\n",
    "predictions = trainer_stage2.predict(test_dataset)\n",
    "preds = np.argmax(predictions.predictions, axis=1)\n",
    "labels = predictions.label_ids\n",
    "accuracy = accuracy_score(labels, preds)\n",
    "f1 = f1_score(labels, preds, average='weighted')\n",
    "print(f\"Test Accuracy: {accuracy:.4f}\")\n",
    "print(f\"Test F1 Score: {f1:.4f}\")"
   ]
  },
  {
   "cell_type": "code",
   "execution_count": null,
   "metadata": {},
   "outputs": [
    {
     "name": "stdout",
     "output_type": "stream",
     "text": [
      "Starting GPU memory usage: 0.05 GB\n"
     ]
    },
    {
     "name": "stderr",
     "output_type": "stream",
     "text": [
      "/home/Genai/project/.venv/lib/python3.10/site-packages/huggingface_hub/file_download.py:1142: FutureWarning: `resume_download` is deprecated and will be removed in version 1.0.0. Downloads always resume when possible. If you want to force a new download, use `force_download=True`.\n",
      "  warnings.warn(\n"
     ]
    },
    {
     "name": "stdout",
     "output_type": "stream",
     "text": [
      "\n",
      "Evaluating baseline model (seed data only, for GPT-2 comparison)...\n",
      "Tokenizing datasets...\n"
     ]
    },
    {
     "data": {
      "application/vnd.jupyter.widget-view+json": {
       "model_id": "4dde30e99dc348f09155eb108f8497cb",
       "version_major": 2,
       "version_minor": 0
      },
      "text/plain": [
       "Map:   0%|          | 0/80 [00:00<?, ? examples/s]"
      ]
     },
     "metadata": {},
     "output_type": "display_data"
    },
    {
     "data": {
      "application/vnd.jupyter.widget-view+json": {
       "model_id": "da01bbb979644f8b8ab7ada9315648f0",
       "version_major": 2,
       "version_minor": 0
      },
      "text/plain": [
       "Map:   0%|          | 0/20 [00:00<?, ? examples/s]"
      ]
     },
     "metadata": {},
     "output_type": "display_data"
    },
    {
     "name": "stdout",
     "output_type": "stream",
     "text": [
      "Creating baseline model...\n"
     ]
    },
    {
     "name": "stderr",
     "output_type": "stream",
     "text": [
      "/home/Genai/project/.venv/lib/python3.10/site-packages/huggingface_hub/file_download.py:1142: FutureWarning: `resume_download` is deprecated and will be removed in version 1.0.0. Downloads always resume when possible. If you want to force a new download, use `force_download=True`.\n",
      "  warnings.warn(\n",
      "Some weights of XLMRobertaForSequenceClassification were not initialized from the model checkpoint at xlm-roberta-base and are newly initialized: ['classifier.dense.bias', 'classifier.dense.weight', 'classifier.out_proj.bias', 'classifier.out_proj.weight']\n",
      "You should probably TRAIN this model on a down-stream task to be able to use it for predictions and inference.\n",
      "/home/Genai/project/.venv/lib/python3.10/site-packages/accelerate/accelerator.py:457: FutureWarning: Passing the following arguments to `Accelerator` is deprecated and will be removed in version 1.0 of Accelerate: dict_keys(['dispatch_batches', 'split_batches', 'even_batches', 'use_seedable_sampler']). Please pass an `accelerate.DataLoaderConfiguration` instead: \n",
      "dataloader_config = DataLoaderConfiguration(dispatch_batches=None, split_batches=False, even_batches=True, use_seedable_sampler=True)\n",
      "  warnings.warn(\n",
      "/home/Genai/project/.venv/lib/python3.10/site-packages/accelerate/accelerator.py:494: FutureWarning: `torch.cuda.amp.GradScaler(args...)` is deprecated. Please use `torch.amp.GradScaler('cuda', args...)` instead.\n",
      "  self.scaler = torch.cuda.amp.GradScaler(**kwargs)\n"
     ]
    },
    {
     "name": "stdout",
     "output_type": "stream",
     "text": [
      "Training baseline model...\n"
     ]
    },
    {
     "name": "stderr",
     "output_type": "stream",
     "text": [
      "/home/Genai/project/.venv/lib/python3.10/site-packages/torch/utils/checkpoint.py:295: FutureWarning: `torch.cpu.amp.autocast(args...)` is deprecated. Please use `torch.amp.autocast('cpu', args...)` instead.\n",
      "  with torch.enable_grad(), device_autocast_ctx, torch.cpu.amp.autocast(**ctx.cpu_autocast_kwargs):  # type: ignore[attr-defined]\n"
     ]
    },
    {
     "data": {
      "text/html": [
       "\n",
       "    <div>\n",
       "      \n",
       "      <progress value='30' max='30' style='width:300px; height:20px; vertical-align: middle;'></progress>\n",
       "      [30/30 02:01, Epoch 3/3]\n",
       "    </div>\n",
       "    <table border=\"1\" class=\"dataframe\">\n",
       "  <thead>\n",
       " <tr style=\"text-align: left;\">\n",
       "      <th>Epoch</th>\n",
       "      <th>Training Loss</th>\n",
       "      <th>Validation Loss</th>\n",
       "      <th>Accuracy</th>\n",
       "      <th>F1</th>\n",
       "    </tr>\n",
       "  </thead>\n",
       "  <tbody>\n",
       "    <tr>\n",
       "      <td>1</td>\n",
       "      <td>0.707200</td>\n",
       "      <td>0.702759</td>\n",
       "      <td>0.450000</td>\n",
       "      <td>0.279310</td>\n",
       "    </tr>\n",
       "    <tr>\n",
       "      <td>2</td>\n",
       "      <td>0.712400</td>\n",
       "      <td>0.704736</td>\n",
       "      <td>0.350000</td>\n",
       "      <td>0.289333</td>\n",
       "    </tr>\n",
       "    <tr>\n",
       "      <td>3</td>\n",
       "      <td>0.691000</td>\n",
       "      <td>0.709644</td>\n",
       "      <td>0.400000</td>\n",
       "      <td>0.362500</td>\n",
       "    </tr>\n",
       "  </tbody>\n",
       "</table><p>"
      ],
      "text/plain": [
       "<IPython.core.display.HTML object>"
      ]
     },
     "metadata": {},
     "output_type": "display_data"
    },
    {
     "name": "stderr",
     "output_type": "stream",
     "text": [
      "/home/Genai/project/.venv/lib/python3.10/site-packages/torch/utils/checkpoint.py:295: FutureWarning: `torch.cpu.amp.autocast(args...)` is deprecated. Please use `torch.amp.autocast('cpu', args...)` instead.\n",
      "  with torch.enable_grad(), device_autocast_ctx, torch.cpu.amp.autocast(**ctx.cpu_autocast_kwargs):  # type: ignore[attr-defined]\n",
      "/home/Genai/project/.venv/lib/python3.10/site-packages/torch/utils/checkpoint.py:295: FutureWarning: `torch.cpu.amp.autocast(args...)` is deprecated. Please use `torch.amp.autocast('cpu', args...)` instead.\n",
      "  with torch.enable_grad(), device_autocast_ctx, torch.cpu.amp.autocast(**ctx.cpu_autocast_kwargs):  # type: ignore[attr-defined]\n"
     ]
    },
    {
     "name": "stdout",
     "output_type": "stream",
     "text": [
      "Evaluating baseline model...\n"
     ]
    },
    {
     "data": {
      "text/html": [],
      "text/plain": [
       "<IPython.core.display.HTML object>"
      ]
     },
     "metadata": {},
     "output_type": "display_data"
    },
    {
     "name": "stdout",
     "output_type": "stream",
     "text": [
      "\n",
      "=== Performance Comparison (GPT-2 Synthetic) ===\n",
      "Baseline (seed data only) - Accuracy: 0.4500, F1: 0.2793\n",
      "Enhanced (with GPT-2 synthetic) - Accuracy: 0.4000, F1: 0.3879\n",
      "Improvement              - Accuracy: -0.0500, F1: 0.1086\n",
      "\n",
      "=== Error Analysis (GPT-2 Synthetic) ===\n",
      "Example 1:\n",
      "  True sentiment: Positive\n",
      "  Predicted sentiment: Negative\n",
      "  Text: ya allah hamsab ko naik hidayat atta farma hamara hukumranoo ko khulfay rashideen ka tariqa par chal...\n",
      "\n",
      "Example 2:\n",
      "  True sentiment: Negative\n",
      "  Predicted sentiment: Positive\n",
      "  Text: iqbal ham sharminda hein . aap ki chuti ke qatil zinda hein . ...\n",
      "\n",
      "Example 3:\n",
      "  True sentiment: Positive\n",
      "  Predicted sentiment: Negative\n",
      "  Text: jo logh keh rhy hain k 6gb ram huni cahiye thi un jahilo ko oneplus 3t ly laina cahiye phir .. o bha...\n",
      "\n",
      "Example 4:\n",
      "  True sentiment: Positive\n",
      "  Predicted sentiment: Negative\n",
      "  Text: muskan sis ho bahi nahi girls behi patang urhtaayi hy meri friend maha ko bhot achi patang uhdni att...\n",
      "\n",
      "Example 5:\n",
      "  True sentiment: Negative\n",
      "  Predicted sentiment: Positive\n",
      "  Text: awam ma ghussay ki sb sy bri wja hukmrano ki na ehli , be rozgari taleem ki kmi , or jhalat ha , ...\n",
      "\n"
     ]
    },
    {
     "name": "stderr",
     "output_type": "stream",
     "text": [
      "/tmp/ipykernel_24133/2448992818.py:140: FutureWarning: The default of observed=False is deprecated and will be changed to True in a future version of pandas. Pass observed=False to retain current behavior or observed=True to adopt the future default and silence this warning.\n",
      "  accuracy_by_length = test_df_with_preds.groupby('length_group')['correct'].mean()\n"
     ]
    },
    {
     "name": "stdout",
     "output_type": "stream",
     "text": [
      "Final GPU memory usage: 0.05 GB\n"
     ]
    }
   ],
   "source": [
    "# 3.7 Model Evaluation and Comparison with Baseline (GPT-2 Synthetic Data)\n",
    "import pandas as pd\n",
    "import numpy as np\n",
    "import torch\n",
    "from transformers import AutoTokenizer, AutoModelForSequenceClassification, Trainer\n",
    "from datasets import Dataset\n",
    "from sklearn.model_selection import train_test_split\n",
    "from sklearn.metrics import accuracy_score, f1_score, confusion_matrix\n",
    "import matplotlib.pyplot as plt\n",
    "import seaborn as sns\n",
    "\n",
    "# Create confusion matrix\n",
    "cm = confusion_matrix(labels, preds)\n",
    "plt.figure(figsize=(8, 6))\n",
    "sns.heatmap(cm, annot=True, fmt='d', cmap='Blues',\n",
    "           xticklabels=['Negative', 'Positive'],\n",
    "           yticklabels=['Negative', 'Positive'])\n",
    "plt.xlabel('Predicted')\n",
    "plt.ylabel('True')\n",
    "plt.title('Confusion Matrix (GPT-2 Synthetic)')\n",
    "plt.savefig('Images/confusion_matrix_gpt2.png')\n",
    "plt.show()\n",
    "\n",
    "# Baseline on seed data\n",
    "print(\"\\nEvaluating baseline model (seed data only, for GPT-2 comparison)...\")\n",
    "seed_df_with_label = seed_df.copy()\n",
    "seed_df_with_label['label'] = seed_df_with_label['sentiment'].map({'pos': 1, 'neg': 0})\n",
    "\n",
    "baseline_train, baseline_test = train_test_split(\n",
    "    seed_df_with_label, test_size=0.2, stratify=seed_df_with_label['label'], random_state=42\n",
    ")\n",
    "\n",
    "baseline_train_dataset = Dataset.from_pandas(baseline_train[['review', 'label']])\n",
    "baseline_test_dataset = Dataset.from_pandas(baseline_test[['review', 'label']])\n",
    "\n",
    "baseline_train_dataset = baseline_train_dataset.map(tokenize_function, batched=True)\n",
    "baseline_test_dataset = baseline_test_dataset.map(tokenize_function, batched=True)\n",
    "\n",
    "baseline_train_dataset.set_format('torch', columns=['input_ids', 'attention_mask', 'label'])\n",
    "baseline_test_dataset.set_format('torch', columns=['input_ids', 'attention_mask', 'label'])\n",
    "\n",
    "baseline_model = AutoModelForSequenceClassification.from_pretrained(model_name, num_labels=2).to(device)\n",
    "\n",
    "baseline_args = TrainingArguments(\n",
    "    output_dir='./Models/baseline-model-gpt2',\n",
    "    num_train_epochs=3,\n",
    "    per_device_train_batch_size=8,\n",
    "    per_device_eval_batch_size=8,\n",
    "    learning_rate=2e-5,\n",
    "    warmup_steps=50,\n",
    "    weight_decay=0.01,\n",
    "    logging_dir='./logs',\n",
    "    logging_steps=10,\n",
    "    evaluation_strategy=\"epoch\",\n",
    "    save_strategy=\"epoch\",\n",
    "    load_best_model_at_end=True,\n",
    "    fp16=True\n",
    ")\n",
    "\n",
    "baseline_trainer = Trainer(\n",
    "    model=baseline_model,\n",
    "    args=baseline_args,\n",
    "    train_dataset=baseline_train_dataset,\n",
    "    eval_dataset=baseline_test_dataset,\n",
    "    compute_metrics=compute_metrics\n",
    ")\n",
    "\n",
    "baseline_trainer.train()\n",
    "baseline_results = baseline_trainer.evaluate()\n",
    "\n",
    "baseline_predictions = baseline_trainer.predict(baseline_test_dataset)\n",
    "baseline_preds = np.argmax(baseline_predictions.predictions, axis=1)\n",
    "baseline_labels = baseline_predictions.label_ids\n",
    "baseline_accuracy = accuracy_score(baseline_labels, baseline_preds)\n",
    "baseline_f1 = f1_score(baseline_labels, baseline_preds, average='weighted')\n",
    "\n",
    "print(\"\\n=== Performance Comparison (GPT-2 Synthetic) ===\")\n",
    "print(f\"Baseline (seed data only) - Accuracy: {baseline_accuracy:.4f}, F1: {baseline_f1:.4f}\")\n",
    "print(f\"Enhanced (with GPT-2 synthetic) - Accuracy: {accuracy:.4f}, F1: {f1:.4f}\")\n",
    "print(f\"Improvement              - Accuracy: {accuracy - baseline_accuracy:.4f}, F1: {f1 - baseline_f1:.4f}\")\n",
    "\n",
    "# Error analysis\n",
    "test_df_with_preds = test_df.copy()\n",
    "test_df_with_preds['predicted'] = preds\n",
    "test_df_with_preds['correct'] = test_df_with_preds['label'] == preds\n",
    "\n",
    "print(\"\\n=== Error Analysis (GPT-2 Synthetic) ===\")\n",
    "misclassified = test_df_with_preds[~test_df_with_preds['correct']].sample(5)\n",
    "for i, (_, row) in enumerate(misclassified.iterrows()):\n",
    "    true_sentiment = \"Positive\" if row['label'] == 1 else \"Negative\"\n",
    "    pred_sentiment = \"Positive\" if row['predicted'] == 1 else \"Negative\"\n",
    "    print(f\"Example {i+1}:\")\n",
    "    print(f\"  True sentiment: {true_sentiment}\")\n",
    "    print(f\"  Predicted sentiment: {pred_sentiment}\")\n",
    "    print(f\"  Text: {row['review'][:100]}...\")\n",
    "    print()\n",
    "\n",
    "test_df_with_preds['length'] = test_df_with_preds['review'].apply(len)\n",
    "test_df_with_preds['length_group'] = pd.qcut(test_df_with_preds['length'], 4, labels=['Very Short', 'Short', 'Medium', 'Long'])\n",
    "accuracy_by_length = test_df_with_preds.groupby('length_group')['correct'].mean()\n",
    "\n",
    "plt.figure(figsize=(10, 6))\n",
    "accuracy_by_length.plot(kind='bar', color='purple')\n",
    "plt.title('Accuracy by Text Length (GPT-2 Synthetic)')\n",
    "plt.ylabel('Accuracy')\n",
    "plt.xlabel('Text Length')\n",
    "plt.ylim(0, 1)\n",
    "plt.grid(axis='y', alpha=0.3)\n",
    "plt.savefig('Images/accuracy_by_length_gpt2.png')\n",
    "plt.show()"
   ]
  },
  {
   "cell_type": "code",
   "execution_count": 19,
   "metadata": {},
   "outputs": [
    {
     "name": "stdout",
     "output_type": "stream",
     "text": [
      "Current GPU memory usage: 3.50 GB\n"
     ]
    }
   ],
   "source": [
    "# Code to free GPU memory completely\n",
    "import torch\n",
    "import gc\n",
    "\n",
    "# Delete any existing model variables (add specific model variables you know exist)\n",
    "try:\n",
    "    del model, tokenizer, trainer, model_with_value_head\n",
    "    del baseline_model, baseline_trainer, ppo_gpt2, gpt2_model \n",
    "except:\n",
    "    pass\n",
    "\n",
    "# Clear cache and collect garbage\n",
    "torch.cuda.empty_cache()\n",
    "gc.collect()\n",
    "\n",
    "# Check current GPU memory usage\n",
    "print(f\"Current GPU memory usage: {torch.cuda.memory_allocated()/1e9:.2f} GB\")"
   ]
  }
 ],
 "metadata": {
  "kernelspec": {
   "display_name": ".venv",
   "language": "python",
   "name": "python3"
  },
  "language_info": {
   "codemirror_mode": {
    "name": "ipython",
    "version": 3
   },
   "file_extension": ".py",
   "mimetype": "text/x-python",
   "name": "python",
   "nbconvert_exporter": "python",
   "pygments_lexer": "ipython3",
   "version": "3.10.12"
  }
 },
 "nbformat": 4,
 "nbformat_minor": 2
}
